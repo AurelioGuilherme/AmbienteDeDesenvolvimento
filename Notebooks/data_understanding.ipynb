{
 "cells": [
  {
   "cell_type": "markdown",
   "metadata": {},
   "source": [
    "# Precificação de Alugéis em Nova York"
   ]
  },
  {
   "cell_type": "markdown",
   "metadata": {},
   "source": [
    "## Data Understanding"
   ]
  },
  {
   "cell_type": "code",
   "execution_count": 8,
   "metadata": {},
   "outputs": [],
   "source": [
    "import pandas as pd\n",
    "import os\n",
    "import numpy as np\n",
    "import seaborn as sns\n",
    "import matplotlib.pyplot as plt"
   ]
  },
  {
   "cell_type": "code",
   "execution_count": 9,
   "metadata": {},
   "outputs": [],
   "source": [
    "DATA_DIR = \"../Data\"\n",
    "POLLUTION_DATASET_FILE_NAME = \"teste_indicium_precificacao.csv\"\n",
    "\n",
    "file_path = os.path.join(DATA_DIR, POLLUTION_DATASET_FILE_NAME)\n",
    "\n",
    "if os.path.exists(file_path):\n",
    "    df = pd.read_csv(file_path)\n",
    "else: \n",
    "     print(\"Arquivo não encontrado\")"
   ]
  },
  {
   "cell_type": "code",
   "execution_count": null,
   "metadata": {},
   "outputs": [],
   "source": [
    "df.head()"
   ]
  },
  {
   "cell_type": "code",
   "execution_count": null,
   "metadata": {},
   "outputs": [],
   "source": [
    "df.describe().T"
   ]
  },
  {
   "cell_type": "code",
   "execution_count": null,
   "metadata": {},
   "outputs": [],
   "source": [
    "df.head(1)"
   ]
  },
  {
   "cell_type": "code",
   "execution_count": null,
   "metadata": {},
   "outputs": [],
   "source": [
    "df.info()"
   ]
  },
  {
   "cell_type": "code",
   "execution_count": null,
   "metadata": {},
   "outputs": [],
   "source": [
    "pd.DataFrame({\"Quantidade_Dados_Faltantes\" : df.isnull().sum()[df.isnull().sum() > 0],\\\n",
    "              \"Porcentagem_Dados_Faltantes\" : round((df.isnull().sum()[df.isnull().sum() > 0] / len(df) * 100),2)})"
   ]
  },
  {
   "cell_type": "code",
   "execution_count": null,
   "metadata": {},
   "outputs": [],
   "source": [
    "# o tipo set retorna somente valores únicos\n",
    "set(df[df[\"ultima_review\"].isnull()].index == df[df[\"reviews_por_mes\"].isnull()].index) "
   ]
  },
  {
   "cell_type": "code",
   "execution_count": null,
   "metadata": {},
   "outputs": [],
   "source": [
    "df[df.duplicated()]"
   ]
  },
  {
   "cell_type": "code",
   "execution_count": null,
   "metadata": {},
   "outputs": [],
   "source": [
    "lista = []\n",
    "for col in df.columns:\n",
    "    if len(set(df[col].duplicated())) == 2:\n",
    "        lista.append(col)\n",
    "lista"
   ]
  },
  {
   "cell_type": "code",
   "execution_count": 11,
   "metadata": {},
   "outputs": [],
   "source": [
    "valores_continuos = ['price', 'minimo_noites', 'numero_de_reviews', \n",
    "                    'reviews_por_mes', 'calculado_host_listings_count','disponibilidade_365']\n",
    "\n",
    "outliers_df = df[valores_continuos]"
   ]
  },
  {
   "cell_type": "code",
   "execution_count": null,
   "metadata": {},
   "outputs": [],
   "source": [
    "outliers_df.describe().T"
   ]
  },
  {
   "cell_type": "code",
   "execution_count": null,
   "metadata": {},
   "outputs": [],
   "source": [
    "stat_df = pd.DataFrame({\"Valores únicos\": outliers_df.nunique(),\n",
    "                        \"Média\":outliers_df.mean(),\n",
    "                        \"Desvio padrão\":outliers_df.std(),\n",
    "                        \"Valor mínimo\":outliers_df.min(),\n",
    "                        \"Valor máximo\":outliers_df.max(),\n",
    "                        })\n",
    "stat_df"
   ]
  },
  {
   "cell_type": "code",
   "execution_count": null,
   "metadata": {},
   "outputs": [],
   "source": [
    "outliers_df.nunique()"
   ]
  },
  {
   "cell_type": "code",
   "execution_count": null,
   "metadata": {},
   "outputs": [],
   "source": [
    "fig, axes = plt.subplots(2,3, figsize=(16,6))\n",
    "axes = axes.flatten()\n",
    "\n",
    "for i, col in enumerate(valores_continuos):\n",
    "  sns.boxplot(data=outliers_df, x= col, ax=axes[i])\n",
    "  axes[i].set_title(f'boxplot {col}')\n",
    "\n",
    "plt.tight_layout()\n",
    "plt.show()\n"
   ]
  },
  {
   "cell_type": "code",
   "execution_count": null,
   "metadata": {},
   "outputs": [],
   "source": [
    "fig, axes = plt.subplots(2,3, figsize=(16,6))\n",
    "axes = axes.flatten()\n",
    "\n",
    "for i, col in enumerate(valores_continuos):\n",
    "  sns.histplot(data=outliers_df, x= col, ax=axes[i])\n",
    "  axes[i].set_title(f'boxplot {col}')\n",
    "\n",
    "plt.tight_layout()\n",
    "plt.show()\n"
   ]
  },
  {
   "cell_type": "markdown",
   "metadata": {},
   "source": [
    "### Price"
   ]
  },
  {
   "cell_type": "code",
   "execution_count": null,
   "metadata": {},
   "outputs": [],
   "source": [
    "df.query('price < 1')"
   ]
  },
  {
   "cell_type": "code",
   "execution_count": null,
   "metadata": {},
   "outputs": [],
   "source": [
    "q3 = df.price.quantile(0.75)\n",
    "df.query('price >= @q3')"
   ]
  },
  {
   "cell_type": "code",
   "execution_count": null,
   "metadata": {},
   "outputs": [],
   "source": [
    "len(df.query('price >= @q3'))"
   ]
  },
  {
   "cell_type": "code",
   "execution_count": 155,
   "metadata": {},
   "outputs": [],
   "source": [
    "q1 = df.price.quantile(0.25)\n",
    "iqr = q3-q1\n",
    "\n",
    "lower_bound = q1 - 1.5 * iqr\n",
    "upper_bound = q3 + 1.5 * iqr"
   ]
  },
  {
   "cell_type": "code",
   "execution_count": null,
   "metadata": {},
   "outputs": [],
   "source": [
    "df.query('price > @upper_bound')"
   ]
  },
  {
   "cell_type": "code",
   "execution_count": null,
   "metadata": {},
   "outputs": [],
   "source": [
    "len(df.query('price > @upper_bound'))"
   ]
  },
  {
   "cell_type": "code",
   "execution_count": null,
   "metadata": {},
   "outputs": [],
   "source": [
    "df.query(\"calculado_host_listings_count > 1 & minimo_noites < 30\")"
   ]
  },
  {
   "cell_type": "code",
   "execution_count": null,
   "metadata": {},
   "outputs": [],
   "source": [
    "df['host_id'].nunique()"
   ]
  },
  {
   "cell_type": "code",
   "execution_count": null,
   "metadata": {},
   "outputs": [],
   "source": [
    "round(df[\"host_id\"].value_counts().reset_index().mean().values[1])"
   ]
  },
  {
   "cell_type": "code",
   "execution_count": null,
   "metadata": {},
   "outputs": [],
   "source": [
    "df[\"bairro_group\"].nunique()"
   ]
  },
  {
   "cell_type": "code",
   "execution_count": null,
   "metadata": {},
   "outputs": [],
   "source": [
    "pd.DataFrame(df.groupby('bairro_group')['id'].count()).rename({'id': 'Quantidade de anuncios'}, axis=1)"
   ]
  },
  {
   "cell_type": "code",
   "execution_count": null,
   "metadata": {},
   "outputs": [],
   "source": [
    "teste = pd.DataFrame(df.groupby('host_id')['id'].count()).rename({'id': 'Quantidade de anuncios'}, axis=1).sort_values('Quantidade de anuncios', ascending=False)\n",
    "teste"
   ]
  },
  {
   "cell_type": "code",
   "execution_count": null,
   "metadata": {},
   "outputs": [],
   "source": [
    "df[\"host_id\"].value_counts().reset_index().sort_values(by='count',ascending=False).head(10)"
   ]
  },
  {
   "cell_type": "code",
   "execution_count": null,
   "metadata": {},
   "outputs": [],
   "source": [
    "df.query('price != 0')\\\n",
    "  .groupby('room_type')['price']\\\n",
    "  .agg(['mean', 'count','min','max','sum'])"
   ]
  },
  {
   "cell_type": "code",
   "execution_count": null,
   "metadata": {},
   "outputs": [],
   "source": [
    "df.minimo_noites.nunique()"
   ]
  },
  {
   "cell_type": "code",
   "execution_count": 18,
   "metadata": {},
   "outputs": [
    {
     "data": {
      "text/html": [
       "<div>\n",
       "<style scoped>\n",
       "    .dataframe tbody tr th:only-of-type {\n",
       "        vertical-align: middle;\n",
       "    }\n",
       "\n",
       "    .dataframe tbody tr th {\n",
       "        vertical-align: top;\n",
       "    }\n",
       "\n",
       "    .dataframe thead th {\n",
       "        text-align: right;\n",
       "    }\n",
       "</style>\n",
       "<table border=\"1\" class=\"dataframe\">\n",
       "  <thead>\n",
       "    <tr style=\"text-align: right;\">\n",
       "      <th></th>\n",
       "      <th>id</th>\n",
       "      <th>nome</th>\n",
       "      <th>host_id</th>\n",
       "      <th>host_name</th>\n",
       "      <th>bairro_group</th>\n",
       "      <th>bairro</th>\n",
       "      <th>latitude</th>\n",
       "      <th>longitude</th>\n",
       "      <th>room_type</th>\n",
       "      <th>price</th>\n",
       "      <th>minimo_noites</th>\n",
       "      <th>numero_de_reviews</th>\n",
       "      <th>ultima_review</th>\n",
       "      <th>reviews_por_mes</th>\n",
       "      <th>calculado_host_listings_count</th>\n",
       "      <th>disponibilidade_365</th>\n",
       "      <th>minimo_noites_grupo</th>\n",
       "    </tr>\n",
       "  </thead>\n",
       "  <tbody>\n",
       "    <tr>\n",
       "      <th>0</th>\n",
       "      <td>2595</td>\n",
       "      <td>Skylit Midtown Castle</td>\n",
       "      <td>2845</td>\n",
       "      <td>Jennifer</td>\n",
       "      <td>Manhattan</td>\n",
       "      <td>Midtown</td>\n",
       "      <td>40.75362</td>\n",
       "      <td>-73.98377</td>\n",
       "      <td>Entire home/apt</td>\n",
       "      <td>225</td>\n",
       "      <td>1</td>\n",
       "      <td>45</td>\n",
       "      <td>2019-05-21</td>\n",
       "      <td>0.38</td>\n",
       "      <td>2</td>\n",
       "      <td>355</td>\n",
       "      <td>Até 1 Semana</td>\n",
       "    </tr>\n",
       "    <tr>\n",
       "      <th>1</th>\n",
       "      <td>3647</td>\n",
       "      <td>THE VILLAGE OF HARLEM....NEW YORK !</td>\n",
       "      <td>4632</td>\n",
       "      <td>Elisabeth</td>\n",
       "      <td>Manhattan</td>\n",
       "      <td>Harlem</td>\n",
       "      <td>40.80902</td>\n",
       "      <td>-73.94190</td>\n",
       "      <td>Private room</td>\n",
       "      <td>150</td>\n",
       "      <td>3</td>\n",
       "      <td>0</td>\n",
       "      <td>NaN</td>\n",
       "      <td>NaN</td>\n",
       "      <td>1</td>\n",
       "      <td>365</td>\n",
       "      <td>Até 1 Semana</td>\n",
       "    </tr>\n",
       "  </tbody>\n",
       "</table>\n",
       "</div>"
      ],
      "text/plain": [
       "     id                                 nome  host_id  host_name bairro_group  \\\n",
       "0  2595                Skylit Midtown Castle     2845   Jennifer    Manhattan   \n",
       "1  3647  THE VILLAGE OF HARLEM....NEW YORK !     4632  Elisabeth    Manhattan   \n",
       "\n",
       "    bairro  latitude  longitude        room_type  price  minimo_noites  \\\n",
       "0  Midtown  40.75362  -73.98377  Entire home/apt    225              1   \n",
       "1   Harlem  40.80902  -73.94190     Private room    150              3   \n",
       "\n",
       "   numero_de_reviews ultima_review  reviews_por_mes  \\\n",
       "0                 45    2019-05-21             0.38   \n",
       "1                  0           NaN              NaN   \n",
       "\n",
       "   calculado_host_listings_count  disponibilidade_365 minimo_noites_grupo  \n",
       "0                              2                  355        Até 1 Semana  \n",
       "1                              1                  365        Até 1 Semana  "
      ]
     },
     "execution_count": 18,
     "metadata": {},
     "output_type": "execute_result"
    }
   ],
   "source": [
    "df.head(2)"
   ]
  },
  {
   "cell_type": "code",
   "execution_count": 16,
   "metadata": {},
   "outputs": [],
   "source": [
    "df['minimo_noites_grupo'] = pd.cut(\n",
    "    df['minimo_noites'], \n",
    "    bins=[0, 7, 14, 30, float('inf')], \n",
    "    labels=['Até 1 Semana', 'Entre 1 e 2 Semanas', 'Entre 2 Semanas e 1 Mês', 'Mais de 1 Mês']\n",
    ")\n"
   ]
  },
  {
   "cell_type": "code",
   "execution_count": 23,
   "metadata": {},
   "outputs": [
    {
     "data": {
      "text/html": [
       "<div>\n",
       "<style scoped>\n",
       "    .dataframe tbody tr th:only-of-type {\n",
       "        vertical-align: middle;\n",
       "    }\n",
       "\n",
       "    .dataframe tbody tr th {\n",
       "        vertical-align: top;\n",
       "    }\n",
       "\n",
       "    .dataframe thead th {\n",
       "        text-align: right;\n",
       "    }\n",
       "</style>\n",
       "<table border=\"1\" class=\"dataframe\">\n",
       "  <thead>\n",
       "    <tr style=\"text-align: right;\">\n",
       "      <th></th>\n",
       "      <th>id</th>\n",
       "      <th>nome</th>\n",
       "      <th>host_id</th>\n",
       "      <th>host_name</th>\n",
       "      <th>bairro_group</th>\n",
       "      <th>bairro</th>\n",
       "      <th>latitude</th>\n",
       "      <th>longitude</th>\n",
       "      <th>room_type</th>\n",
       "      <th>price</th>\n",
       "      <th>minimo_noites</th>\n",
       "      <th>numero_de_reviews</th>\n",
       "      <th>ultima_review</th>\n",
       "      <th>reviews_por_mes</th>\n",
       "      <th>calculado_host_listings_count</th>\n",
       "      <th>disponibilidade_365</th>\n",
       "      <th>minimo_noites_grupo</th>\n",
       "    </tr>\n",
       "  </thead>\n",
       "  <tbody>\n",
       "    <tr>\n",
       "      <th>0</th>\n",
       "      <td>2595</td>\n",
       "      <td>Skylit Midtown Castle</td>\n",
       "      <td>2845</td>\n",
       "      <td>Jennifer</td>\n",
       "      <td>Manhattan</td>\n",
       "      <td>Midtown</td>\n",
       "      <td>40.75362</td>\n",
       "      <td>-73.98377</td>\n",
       "      <td>Entire home/apt</td>\n",
       "      <td>225</td>\n",
       "      <td>1</td>\n",
       "      <td>45</td>\n",
       "      <td>2019-05-21</td>\n",
       "      <td>0.38</td>\n",
       "      <td>2</td>\n",
       "      <td>355</td>\n",
       "      <td>Até 1 Semana</td>\n",
       "    </tr>\n",
       "    <tr>\n",
       "      <th>1</th>\n",
       "      <td>3647</td>\n",
       "      <td>THE VILLAGE OF HARLEM....NEW YORK !</td>\n",
       "      <td>4632</td>\n",
       "      <td>Elisabeth</td>\n",
       "      <td>Manhattan</td>\n",
       "      <td>Harlem</td>\n",
       "      <td>40.80902</td>\n",
       "      <td>-73.94190</td>\n",
       "      <td>Private room</td>\n",
       "      <td>150</td>\n",
       "      <td>3</td>\n",
       "      <td>0</td>\n",
       "      <td>NaN</td>\n",
       "      <td>NaN</td>\n",
       "      <td>1</td>\n",
       "      <td>365</td>\n",
       "      <td>Até 1 Semana</td>\n",
       "    </tr>\n",
       "    <tr>\n",
       "      <th>2</th>\n",
       "      <td>3831</td>\n",
       "      <td>Cozy Entire Floor of Brownstone</td>\n",
       "      <td>4869</td>\n",
       "      <td>LisaRoxanne</td>\n",
       "      <td>Brooklyn</td>\n",
       "      <td>Clinton Hill</td>\n",
       "      <td>40.68514</td>\n",
       "      <td>-73.95976</td>\n",
       "      <td>Entire home/apt</td>\n",
       "      <td>89</td>\n",
       "      <td>1</td>\n",
       "      <td>270</td>\n",
       "      <td>2019-07-05</td>\n",
       "      <td>4.64</td>\n",
       "      <td>1</td>\n",
       "      <td>194</td>\n",
       "      <td>Até 1 Semana</td>\n",
       "    </tr>\n",
       "    <tr>\n",
       "      <th>3</th>\n",
       "      <td>5022</td>\n",
       "      <td>Entire Apt: Spacious Studio/Loft by central park</td>\n",
       "      <td>7192</td>\n",
       "      <td>Laura</td>\n",
       "      <td>Manhattan</td>\n",
       "      <td>East Harlem</td>\n",
       "      <td>40.79851</td>\n",
       "      <td>-73.94399</td>\n",
       "      <td>Entire home/apt</td>\n",
       "      <td>80</td>\n",
       "      <td>10</td>\n",
       "      <td>9</td>\n",
       "      <td>2018-11-19</td>\n",
       "      <td>0.10</td>\n",
       "      <td>1</td>\n",
       "      <td>0</td>\n",
       "      <td>Entre 1 e 2 Semanas</td>\n",
       "    </tr>\n",
       "    <tr>\n",
       "      <th>4</th>\n",
       "      <td>5099</td>\n",
       "      <td>Large Cozy 1 BR Apartment In Midtown East</td>\n",
       "      <td>7322</td>\n",
       "      <td>Chris</td>\n",
       "      <td>Manhattan</td>\n",
       "      <td>Murray Hill</td>\n",
       "      <td>40.74767</td>\n",
       "      <td>-73.97500</td>\n",
       "      <td>Entire home/apt</td>\n",
       "      <td>200</td>\n",
       "      <td>3</td>\n",
       "      <td>74</td>\n",
       "      <td>2019-06-22</td>\n",
       "      <td>0.59</td>\n",
       "      <td>1</td>\n",
       "      <td>129</td>\n",
       "      <td>Até 1 Semana</td>\n",
       "    </tr>\n",
       "    <tr>\n",
       "      <th>...</th>\n",
       "      <td>...</td>\n",
       "      <td>...</td>\n",
       "      <td>...</td>\n",
       "      <td>...</td>\n",
       "      <td>...</td>\n",
       "      <td>...</td>\n",
       "      <td>...</td>\n",
       "      <td>...</td>\n",
       "      <td>...</td>\n",
       "      <td>...</td>\n",
       "      <td>...</td>\n",
       "      <td>...</td>\n",
       "      <td>...</td>\n",
       "      <td>...</td>\n",
       "      <td>...</td>\n",
       "      <td>...</td>\n",
       "      <td>...</td>\n",
       "    </tr>\n",
       "    <tr>\n",
       "      <th>48889</th>\n",
       "      <td>36484665</td>\n",
       "      <td>Charming one bedroom - newly renovated rowhouse</td>\n",
       "      <td>8232441</td>\n",
       "      <td>Sabrina</td>\n",
       "      <td>Brooklyn</td>\n",
       "      <td>Bedford-Stuyvesant</td>\n",
       "      <td>40.67853</td>\n",
       "      <td>-73.94995</td>\n",
       "      <td>Private room</td>\n",
       "      <td>70</td>\n",
       "      <td>2</td>\n",
       "      <td>0</td>\n",
       "      <td>NaN</td>\n",
       "      <td>NaN</td>\n",
       "      <td>2</td>\n",
       "      <td>9</td>\n",
       "      <td>Até 1 Semana</td>\n",
       "    </tr>\n",
       "    <tr>\n",
       "      <th>48890</th>\n",
       "      <td>36485057</td>\n",
       "      <td>Affordable room in Bushwick/East Williamsburg</td>\n",
       "      <td>6570630</td>\n",
       "      <td>Marisol</td>\n",
       "      <td>Brooklyn</td>\n",
       "      <td>Bushwick</td>\n",
       "      <td>40.70184</td>\n",
       "      <td>-73.93317</td>\n",
       "      <td>Private room</td>\n",
       "      <td>40</td>\n",
       "      <td>4</td>\n",
       "      <td>0</td>\n",
       "      <td>NaN</td>\n",
       "      <td>NaN</td>\n",
       "      <td>2</td>\n",
       "      <td>36</td>\n",
       "      <td>Até 1 Semana</td>\n",
       "    </tr>\n",
       "    <tr>\n",
       "      <th>48891</th>\n",
       "      <td>36485431</td>\n",
       "      <td>Sunny Studio at Historical Neighborhood</td>\n",
       "      <td>23492952</td>\n",
       "      <td>Ilgar &amp; Aysel</td>\n",
       "      <td>Manhattan</td>\n",
       "      <td>Harlem</td>\n",
       "      <td>40.81475</td>\n",
       "      <td>-73.94867</td>\n",
       "      <td>Entire home/apt</td>\n",
       "      <td>115</td>\n",
       "      <td>10</td>\n",
       "      <td>0</td>\n",
       "      <td>NaN</td>\n",
       "      <td>NaN</td>\n",
       "      <td>1</td>\n",
       "      <td>27</td>\n",
       "      <td>Entre 1 e 2 Semanas</td>\n",
       "    </tr>\n",
       "    <tr>\n",
       "      <th>48892</th>\n",
       "      <td>36485609</td>\n",
       "      <td>43rd St. Time Square-cozy single bed</td>\n",
       "      <td>30985759</td>\n",
       "      <td>Taz</td>\n",
       "      <td>Manhattan</td>\n",
       "      <td>Hell's Kitchen</td>\n",
       "      <td>40.75751</td>\n",
       "      <td>-73.99112</td>\n",
       "      <td>Shared room</td>\n",
       "      <td>55</td>\n",
       "      <td>1</td>\n",
       "      <td>0</td>\n",
       "      <td>NaN</td>\n",
       "      <td>NaN</td>\n",
       "      <td>6</td>\n",
       "      <td>2</td>\n",
       "      <td>Até 1 Semana</td>\n",
       "    </tr>\n",
       "    <tr>\n",
       "      <th>48893</th>\n",
       "      <td>36487245</td>\n",
       "      <td>Trendy duplex in the very heart of Hell's Kitchen</td>\n",
       "      <td>68119814</td>\n",
       "      <td>Christophe</td>\n",
       "      <td>Manhattan</td>\n",
       "      <td>Hell's Kitchen</td>\n",
       "      <td>40.76404</td>\n",
       "      <td>-73.98933</td>\n",
       "      <td>Private room</td>\n",
       "      <td>90</td>\n",
       "      <td>7</td>\n",
       "      <td>0</td>\n",
       "      <td>NaN</td>\n",
       "      <td>NaN</td>\n",
       "      <td>1</td>\n",
       "      <td>23</td>\n",
       "      <td>Até 1 Semana</td>\n",
       "    </tr>\n",
       "  </tbody>\n",
       "</table>\n",
       "<p>48894 rows × 17 columns</p>\n",
       "</div>"
      ],
      "text/plain": [
       "             id                                               nome   host_id  \\\n",
       "0          2595                              Skylit Midtown Castle      2845   \n",
       "1          3647                THE VILLAGE OF HARLEM....NEW YORK !      4632   \n",
       "2          3831                    Cozy Entire Floor of Brownstone      4869   \n",
       "3          5022   Entire Apt: Spacious Studio/Loft by central park      7192   \n",
       "4          5099          Large Cozy 1 BR Apartment In Midtown East      7322   \n",
       "...         ...                                                ...       ...   \n",
       "48889  36484665    Charming one bedroom - newly renovated rowhouse   8232441   \n",
       "48890  36485057      Affordable room in Bushwick/East Williamsburg   6570630   \n",
       "48891  36485431            Sunny Studio at Historical Neighborhood  23492952   \n",
       "48892  36485609               43rd St. Time Square-cozy single bed  30985759   \n",
       "48893  36487245  Trendy duplex in the very heart of Hell's Kitchen  68119814   \n",
       "\n",
       "           host_name bairro_group              bairro  latitude  longitude  \\\n",
       "0           Jennifer    Manhattan             Midtown  40.75362  -73.98377   \n",
       "1          Elisabeth    Manhattan              Harlem  40.80902  -73.94190   \n",
       "2        LisaRoxanne     Brooklyn        Clinton Hill  40.68514  -73.95976   \n",
       "3              Laura    Manhattan         East Harlem  40.79851  -73.94399   \n",
       "4              Chris    Manhattan         Murray Hill  40.74767  -73.97500   \n",
       "...              ...          ...                 ...       ...        ...   \n",
       "48889        Sabrina     Brooklyn  Bedford-Stuyvesant  40.67853  -73.94995   \n",
       "48890        Marisol     Brooklyn            Bushwick  40.70184  -73.93317   \n",
       "48891  Ilgar & Aysel    Manhattan              Harlem  40.81475  -73.94867   \n",
       "48892            Taz    Manhattan      Hell's Kitchen  40.75751  -73.99112   \n",
       "48893     Christophe    Manhattan      Hell's Kitchen  40.76404  -73.98933   \n",
       "\n",
       "             room_type  price  minimo_noites  numero_de_reviews ultima_review  \\\n",
       "0      Entire home/apt    225              1                 45    2019-05-21   \n",
       "1         Private room    150              3                  0           NaN   \n",
       "2      Entire home/apt     89              1                270    2019-07-05   \n",
       "3      Entire home/apt     80             10                  9    2018-11-19   \n",
       "4      Entire home/apt    200              3                 74    2019-06-22   \n",
       "...                ...    ...            ...                ...           ...   \n",
       "48889     Private room     70              2                  0           NaN   \n",
       "48890     Private room     40              4                  0           NaN   \n",
       "48891  Entire home/apt    115             10                  0           NaN   \n",
       "48892      Shared room     55              1                  0           NaN   \n",
       "48893     Private room     90              7                  0           NaN   \n",
       "\n",
       "       reviews_por_mes  calculado_host_listings_count  disponibilidade_365  \\\n",
       "0                 0.38                              2                  355   \n",
       "1                  NaN                              1                  365   \n",
       "2                 4.64                              1                  194   \n",
       "3                 0.10                              1                    0   \n",
       "4                 0.59                              1                  129   \n",
       "...                ...                            ...                  ...   \n",
       "48889              NaN                              2                    9   \n",
       "48890              NaN                              2                   36   \n",
       "48891              NaN                              1                   27   \n",
       "48892              NaN                              6                    2   \n",
       "48893              NaN                              1                   23   \n",
       "\n",
       "       minimo_noites_grupo  \n",
       "0             Até 1 Semana  \n",
       "1             Até 1 Semana  \n",
       "2             Até 1 Semana  \n",
       "3      Entre 1 e 2 Semanas  \n",
       "4             Até 1 Semana  \n",
       "...                    ...  \n",
       "48889         Até 1 Semana  \n",
       "48890         Até 1 Semana  \n",
       "48891  Entre 1 e 2 Semanas  \n",
       "48892         Até 1 Semana  \n",
       "48893         Até 1 Semana  \n",
       "\n",
       "[48894 rows x 17 columns]"
      ]
     },
     "execution_count": 23,
     "metadata": {},
     "output_type": "execute_result"
    }
   ],
   "source": [
    "df"
   ]
  },
  {
   "cell_type": "code",
   "execution_count": 24,
   "metadata": {},
   "outputs": [
    {
     "data": {
      "text/html": [
       "<div>\n",
       "<style scoped>\n",
       "    .dataframe tbody tr th:only-of-type {\n",
       "        vertical-align: middle;\n",
       "    }\n",
       "\n",
       "    .dataframe tbody tr th {\n",
       "        vertical-align: top;\n",
       "    }\n",
       "\n",
       "    .dataframe thead tr th {\n",
       "        text-align: left;\n",
       "    }\n",
       "</style>\n",
       "<table border=\"1\" class=\"dataframe\">\n",
       "  <thead>\n",
       "    <tr>\n",
       "      <th></th>\n",
       "      <th>minimo_noites_grupo</th>\n",
       "      <th>room_type</th>\n",
       "      <th colspan=\"5\" halign=\"left\">price</th>\n",
       "    </tr>\n",
       "    <tr>\n",
       "      <th></th>\n",
       "      <th></th>\n",
       "      <th></th>\n",
       "      <th>mean</th>\n",
       "      <th>count</th>\n",
       "      <th>min</th>\n",
       "      <th>max</th>\n",
       "      <th>sum</th>\n",
       "    </tr>\n",
       "  </thead>\n",
       "  <tbody>\n",
       "    <tr>\n",
       "      <th>0</th>\n",
       "      <td>Até 1 Semana</td>\n",
       "      <td>Entire home/apt</td>\n",
       "      <td>210.817349</td>\n",
       "      <td>20728</td>\n",
       "      <td>10</td>\n",
       "      <td>10000</td>\n",
       "      <td>4369822</td>\n",
       "    </tr>\n",
       "    <tr>\n",
       "      <th>1</th>\n",
       "      <td>Até 1 Semana</td>\n",
       "      <td>Private room</td>\n",
       "      <td>89.962283</td>\n",
       "      <td>19832</td>\n",
       "      <td>10</td>\n",
       "      <td>7500</td>\n",
       "      <td>1784132</td>\n",
       "    </tr>\n",
       "    <tr>\n",
       "      <th>2</th>\n",
       "      <td>Até 1 Semana</td>\n",
       "      <td>Shared room</td>\n",
       "      <td>74.072581</td>\n",
       "      <td>992</td>\n",
       "      <td>10</td>\n",
       "      <td>1800</td>\n",
       "      <td>73480</td>\n",
       "    </tr>\n",
       "    <tr>\n",
       "      <th>3</th>\n",
       "      <td>Entre 1 e 2 Semanas</td>\n",
       "      <td>Entire home/apt</td>\n",
       "      <td>181.206566</td>\n",
       "      <td>731</td>\n",
       "      <td>16</td>\n",
       "      <td>6000</td>\n",
       "      <td>132462</td>\n",
       "    </tr>\n",
       "    <tr>\n",
       "      <th>4</th>\n",
       "      <td>Entre 1 e 2 Semanas</td>\n",
       "      <td>Private room</td>\n",
       "      <td>72.053111</td>\n",
       "      <td>659</td>\n",
       "      <td>16</td>\n",
       "      <td>1000</td>\n",
       "      <td>47483</td>\n",
       "    </tr>\n",
       "    <tr>\n",
       "      <th>5</th>\n",
       "      <td>Entre 1 e 2 Semanas</td>\n",
       "      <td>Shared room</td>\n",
       "      <td>39.372093</td>\n",
       "      <td>43</td>\n",
       "      <td>15</td>\n",
       "      <td>235</td>\n",
       "      <td>1693</td>\n",
       "    </tr>\n",
       "    <tr>\n",
       "      <th>6</th>\n",
       "      <td>Entre 2 Semanas e 1 Mês</td>\n",
       "      <td>Entire home/apt</td>\n",
       "      <td>220.615854</td>\n",
       "      <td>3444</td>\n",
       "      <td>10</td>\n",
       "      <td>10000</td>\n",
       "      <td>759801</td>\n",
       "    </tr>\n",
       "    <tr>\n",
       "      <th>7</th>\n",
       "      <td>Entre 2 Semanas e 1 Mês</td>\n",
       "      <td>Private room</td>\n",
       "      <td>71.558401</td>\n",
       "      <td>1601</td>\n",
       "      <td>24</td>\n",
       "      <td>6500</td>\n",
       "      <td>114565</td>\n",
       "    </tr>\n",
       "    <tr>\n",
       "      <th>8</th>\n",
       "      <td>Entre 2 Semanas e 1 Mês</td>\n",
       "      <td>Shared room</td>\n",
       "      <td>49.622642</td>\n",
       "      <td>106</td>\n",
       "      <td>15</td>\n",
       "      <td>800</td>\n",
       "      <td>5260</td>\n",
       "    </tr>\n",
       "    <tr>\n",
       "      <th>9</th>\n",
       "      <td>Mais de 1 Mês</td>\n",
       "      <td>Entire home/apt</td>\n",
       "      <td>236.894841</td>\n",
       "      <td>504</td>\n",
       "      <td>12</td>\n",
       "      <td>6500</td>\n",
       "      <td>119395</td>\n",
       "    </tr>\n",
       "    <tr>\n",
       "      <th>10</th>\n",
       "      <td>Mais de 1 Mês</td>\n",
       "      <td>Private room</td>\n",
       "      <td>257.172566</td>\n",
       "      <td>226</td>\n",
       "      <td>24</td>\n",
       "      <td>10000</td>\n",
       "      <td>58121</td>\n",
       "    </tr>\n",
       "    <tr>\n",
       "      <th>11</th>\n",
       "      <td>Mais de 1 Mês</td>\n",
       "      <td>Shared room</td>\n",
       "      <td>53.823529</td>\n",
       "      <td>17</td>\n",
       "      <td>25</td>\n",
       "      <td>249</td>\n",
       "      <td>915</td>\n",
       "    </tr>\n",
       "  </tbody>\n",
       "</table>\n",
       "</div>"
      ],
      "text/plain": [
       "        minimo_noites_grupo        room_type       price                    \\\n",
       "                                                    mean  count min    max   \n",
       "0              Até 1 Semana  Entire home/apt  210.817349  20728  10  10000   \n",
       "1              Até 1 Semana     Private room   89.962283  19832  10   7500   \n",
       "2              Até 1 Semana      Shared room   74.072581    992  10   1800   \n",
       "3       Entre 1 e 2 Semanas  Entire home/apt  181.206566    731  16   6000   \n",
       "4       Entre 1 e 2 Semanas     Private room   72.053111    659  16   1000   \n",
       "5       Entre 1 e 2 Semanas      Shared room   39.372093     43  15    235   \n",
       "6   Entre 2 Semanas e 1 Mês  Entire home/apt  220.615854   3444  10  10000   \n",
       "7   Entre 2 Semanas e 1 Mês     Private room   71.558401   1601  24   6500   \n",
       "8   Entre 2 Semanas e 1 Mês      Shared room   49.622642    106  15    800   \n",
       "9             Mais de 1 Mês  Entire home/apt  236.894841    504  12   6500   \n",
       "10            Mais de 1 Mês     Private room  257.172566    226  24  10000   \n",
       "11            Mais de 1 Mês      Shared room   53.823529     17  25    249   \n",
       "\n",
       "             \n",
       "        sum  \n",
       "0   4369822  \n",
       "1   1784132  \n",
       "2     73480  \n",
       "3    132462  \n",
       "4     47483  \n",
       "5      1693  \n",
       "6    759801  \n",
       "7    114565  \n",
       "8      5260  \n",
       "9    119395  \n",
       "10    58121  \n",
       "11      915  "
      ]
     },
     "execution_count": 24,
     "metadata": {},
     "output_type": "execute_result"
    }
   ],
   "source": [
    "df.query('price != 0')\\\n",
    "  .groupby(['minimo_noites_grupo','room_type'], observed=True)[['price']]\\\n",
    "  .agg(['mean', 'count','min','max','sum']).reset_index()"
   ]
  },
  {
   "cell_type": "code",
   "execution_count": 29,
   "metadata": {},
   "outputs": [
    {
     "data": {
      "text/plain": [
       "47"
      ]
     },
     "execution_count": 29,
     "metadata": {},
     "output_type": "execute_result"
    }
   ],
   "source": [
    "df.calculado_host_listings_count.nunique()"
   ]
  },
  {
   "cell_type": "code",
   "execution_count": 26,
   "metadata": {},
   "outputs": [
    {
     "data": {
      "text/plain": [
       "394"
      ]
     },
     "execution_count": 26,
     "metadata": {},
     "output_type": "execute_result"
    }
   ],
   "source": [
    "df.numero_de_reviews.nunique()"
   ]
  },
  {
   "cell_type": "code",
   "execution_count": null,
   "metadata": {},
   "outputs": [],
   "source": [
    "df['minimo_noites'].unique()"
   ]
  },
  {
   "cell_type": "code",
   "execution_count": null,
   "metadata": {},
   "outputs": [],
   "source": [
    "sns.heatmap(df[['price', \n",
    "                'minimo_noites', \n",
    "                'numero_de_reviews', \n",
    "                'reviews_por_mes', \n",
    "                'calculado_host_listings_count', \n",
    "                'disponibilidade_365']].corr(), annot=True)"
   ]
  },
  {
   "cell_type": "markdown",
   "metadata": {},
   "source": [
    "analisar lat long para verificar a qtd de imoveis e se existem imóveis diferentes no mesmo endereço disponíveis."
   ]
  },
  {
   "cell_type": "markdown",
   "metadata": {},
   "source": [
    "## MLFLOW"
   ]
  },
  {
   "cell_type": "code",
   "execution_count": 6,
   "metadata": {},
   "outputs": [],
   "source": [
    "import mlflow\n",
    "import mlflow.sklearn"
   ]
  },
  {
   "cell_type": "code",
   "execution_count": 7,
   "metadata": {},
   "outputs": [],
   "source": [
    "from sklearn.ensemble import RandomForestClassifier\n",
    "from sklearn.model_selection import train_test_split\n",
    "from sklearn.preprocessing import LabelEncoder\n",
    "from sklearn.metrics import accuracy_score, precision_score, recall_score, f1_score"
   ]
  },
  {
   "cell_type": "code",
   "execution_count": null,
   "metadata": {},
   "outputs": [],
   "source": [
    "mlflow.set_experiment(\"pollution_dataset_experiment\")"
   ]
  },
  {
   "cell_type": "code",
   "execution_count": 9,
   "metadata": {},
   "outputs": [],
   "source": [
    "X = df.iloc[:,:-1]\n",
    "y = df.iloc[:,-1:]"
   ]
  },
  {
   "cell_type": "code",
   "execution_count": null,
   "metadata": {},
   "outputs": [],
   "source": [
    "encoder = LabelEncoder()\n",
    "y = encoder.fit_transform(y)"
   ]
  },
  {
   "cell_type": "code",
   "execution_count": 11,
   "metadata": {},
   "outputs": [],
   "source": [
    "X_train, X_test, y_train, y_test = train_test_split(X, y, test_size=0.2, random_state=42)"
   ]
  },
  {
   "cell_type": "code",
   "execution_count": 12,
   "metadata": {},
   "outputs": [],
   "source": [
    "model = RandomForestClassifier(n_estimators=100, random_state=42)"
   ]
  },
  {
   "cell_type": "code",
   "execution_count": null,
   "metadata": {},
   "outputs": [],
   "source": [
    "with mlflow.start_run():\n",
    "    # Treinando o modelo\n",
    "    model.fit(X_train, y_train)\n",
    "    y_pred = model.predict(X_test)\n",
    "\n",
    "    # Calculando métricas\n",
    "    accuracy = accuracy_score(y_test, y_pred)\n",
    "    precision = precision_score(y_test, y_pred, average='macro')\n",
    "    recall = recall_score(y_test, y_pred, average='macro')\n",
    "    f1 = f1_score(y_test, y_pred, average='macro')\n",
    "\n",
    "    # Registrando parâmetros, métricas e o modelo\n",
    "    mlflow.log_param(\"n_estimators\", 100)\n",
    "    mlflow.log_param(\"random_state\", 42)\n",
    "    mlflow.log_metric(\"accuracy\", accuracy)\n",
    "    mlflow.log_metric(\"precision\", precision)\n",
    "    mlflow.log_metric(\"recall\", recall)\n",
    "    mlflow.log_metric(\"f1_score\", f1)\n",
    "\n",
    "    # Registrando o modelo\n",
    "    mlflow.sklearn.log_model(model, \"classification_rf_model\",input_example=X_test)"
   ]
  },
  {
   "cell_type": "code",
   "execution_count": null,
   "metadata": {},
   "outputs": [],
   "source": [
    "import mlflow\n",
    "from sklearn.model_selection import train_test_split\n",
    "from sklearn.datasets import load_diabetes\n",
    "from sklearn.ensemble import RandomForestRegressor\n",
    "\n",
    "# set the experiment id\n",
    "mlflow.set_experiment(experiment_id=\"0\")\n",
    "\n",
    "mlflow.autolog()\n",
    "db = load_diabetes()\n",
    "\n",
    "X_train, X_test, y_train, y_test = train_test_split(db.data, db.target)\n",
    "\n",
    "# Create and train models.\n",
    "rf = RandomForestRegressor(n_estimators=100, max_depth=6, max_features=3)\n",
    "rf.fit(X_train, y_train)\n",
    "\n",
    "# Use the model to make predictions on the test dataset.\n",
    "predictions = rf.predict(X_test)"
   ]
  },
  {
   "cell_type": "code",
   "execution_count": 2,
   "metadata": {},
   "outputs": [],
   "source": [
    "mlflow.set_tracking_uri(\"/home/aurelio/projetos/Python/indicium/Notebooks/mlruns\")"
   ]
  }
 ],
 "metadata": {
  "kernelspec": {
   "display_name": ".venv",
   "language": "python",
   "name": "python3"
  },
  "language_info": {
   "codemirror_mode": {
    "name": "ipython",
    "version": 3
   },
   "file_extension": ".py",
   "mimetype": "text/x-python",
   "name": "python",
   "nbconvert_exporter": "python",
   "pygments_lexer": "ipython3",
   "version": "3.10.12"
  }
 },
 "nbformat": 4,
 "nbformat_minor": 2
}
