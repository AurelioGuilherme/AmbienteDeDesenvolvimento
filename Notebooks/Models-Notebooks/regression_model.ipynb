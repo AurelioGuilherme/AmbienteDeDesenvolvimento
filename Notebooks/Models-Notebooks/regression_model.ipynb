{
 "cells": [
  {
   "cell_type": "code",
   "execution_count": 7,
   "metadata": {},
   "outputs": [
    {
     "data": {
      "text/html": [
       "<pre style=\"white-space:pre;overflow-x:auto;line-height:normal;font-family:Menlo,'DejaVu Sans Mono',consolas,'Courier New',monospace\">Initialized MLflow to track repo <span style=\"color: #008000; text-decoration-color: #008000\">\"aurelioguilherme/AmbienteDeDesenvolvimento\"</span>\n",
       "</pre>\n"
      ],
      "text/plain": [
       "Initialized MLflow to track repo \u001b[32m\"aurelioguilherme/AmbienteDeDesenvolvimento\"\u001b[0m\n"
      ]
     },
     "metadata": {},
     "output_type": "display_data"
    },
    {
     "data": {
      "text/html": [
       "<pre style=\"white-space:pre;overflow-x:auto;line-height:normal;font-family:Menlo,'DejaVu Sans Mono',consolas,'Courier New',monospace\">Repository aurelioguilherme/AmbienteDeDesenvolvimento initialized!\n",
       "</pre>\n"
      ],
      "text/plain": [
       "Repository aurelioguilherme/AmbienteDeDesenvolvimento initialized!\n"
      ]
     },
     "metadata": {},
     "output_type": "display_data"
    },
    {
     "name": "stderr",
     "output_type": "stream",
     "text": [
      "2025/01/26 20:54:37 INFO mlflow.tracking.fluent: Experiment with name 'teste2' does not exist. Creating a new experiment.\n",
      "2025/01/26 20:55:41 WARNING mlflow.utils.autologging_utils: Encountered unexpected error during sklearn autologging: The following failures occurred while performing one or more logging operations: [MlflowException('Failed to perform one or more operations on the run with ID 0deffdc919e3433f9de95c1bdfb7e6b0. Failed operations: [MlflowException(\"API request to https://dagshub.com/aurelioguilherme/AmbienteDeDesenvolvimento.mlflow/api/2.0/mlflow/runs/log-inputs failed with exception HTTPSConnectionPool(host=\\'dagshub.com\\', port=443): Max retries exceeded with url: /aurelioguilherme/AmbienteDeDesenvolvimento.mlflow/api/2.0/mlflow/runs/log-inputs (Caused by ResponseError(\\'too many 500 error responses\\'))\")]')]\n"
     ]
    },
    {
     "name": "stdout",
     "output_type": "stream",
     "text": [
      "🏃 View run redolent-doe-896 at: https://dagshub.com/aurelioguilherme/AmbienteDeDesenvolvimento.mlflow/#/experiments/2/runs/0deffdc919e3433f9de95c1bdfb7e6b0\n",
      "🧪 View experiment at: https://dagshub.com/aurelioguilherme/AmbienteDeDesenvolvimento.mlflow/#/experiments/2\n"
     ]
    }
   ],
   "source": [
    "import mlflow\n",
    "from sklearn.model_selection import train_test_split\n",
    "from sklearn.datasets import load_diabetes\n",
    "from sklearn.ensemble import RandomForestRegressor\n",
    "from sklearn.metrics import accuracy_score, precision_score, recall_score, f1_score\n",
    "import dagshub\n",
    "\n",
    "dagshub.init(repo_owner='aurelioguilherme',\n",
    "             repo_name='AmbienteDeDesenvolvimento',\n",
    "             mlflow=True)\n",
    "\n",
    "\n",
    "# set the experiment id\n",
    "mlflow.set_experiment(experiment_name='teste2' )\n",
    "\n",
    "db = load_diabetes()\n",
    "\n",
    "X_train, X_test, y_train, y_test = train_test_split(db.data, db.target)\n",
    "\n",
    "# Create and train models.\n",
    "model = RandomForestRegressor( random_state=42)\n",
    "with mlflow.start_run():\n",
    "    model.fit(X_train, y_train)\n",
    "\n",
    "    # Use the model to make predictions on the test dataset.\n",
    "    y_pred = model.predict(X_test)\n",
    "    mlflow.log_param('Param name', 'Value')\n"
   ]
  },
  {
   "cell_type": "code",
   "execution_count": 5,
   "metadata": {},
   "outputs": [],
   "source": [
    "#mlflow.set_tracking_uri('../../mlruns')"
   ]
  }
 ],
 "metadata": {
  "kernelspec": {
   "display_name": ".venv",
   "language": "python",
   "name": "python3"
  },
  "language_info": {
   "codemirror_mode": {
    "name": "ipython",
    "version": 3
   },
   "file_extension": ".py",
   "mimetype": "text/x-python",
   "name": "python",
   "nbconvert_exporter": "python",
   "pygments_lexer": "ipython3",
   "version": "3.10.12"
  }
 },
 "nbformat": 4,
 "nbformat_minor": 2
}
