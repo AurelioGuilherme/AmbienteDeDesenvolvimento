{
 "cells": [
  {
   "cell_type": "code",
   "execution_count": null,
   "metadata": {},
   "outputs": [],
   "source": [
    "import os"
   ]
  },
  {
   "cell_type": "code",
   "execution_count": 1,
   "metadata": {},
   "outputs": [
    {
     "data": {
      "text/html": [
       "<pre style=\"white-space:pre;overflow-x:auto;line-height:normal;font-family:Menlo,'DejaVu Sans Mono',consolas,'Courier New',monospace\">Accessing as AurelioGuilherme\n",
       "</pre>\n"
      ],
      "text/plain": [
       "Accessing as AurelioGuilherme\n"
      ]
     },
     "metadata": {},
     "output_type": "display_data"
    },
    {
     "data": {
      "text/html": [
       "<pre style=\"white-space:pre;overflow-x:auto;line-height:normal;font-family:Menlo,'DejaVu Sans Mono',consolas,'Courier New',monospace\">Initialized MLflow to track repo <span style=\"color: #008000; text-decoration-color: #008000\">\"aurelioguilherme/AmbienteDeDesenvolvimento\"</span>\n",
       "</pre>\n"
      ],
      "text/plain": [
       "Initialized MLflow to track repo \u001b[32m\"aurelioguilherme/AmbienteDeDesenvolvimento\"\u001b[0m\n"
      ]
     },
     "metadata": {},
     "output_type": "display_data"
    },
    {
     "data": {
      "text/html": [
       "<pre style=\"white-space:pre;overflow-x:auto;line-height:normal;font-family:Menlo,'DejaVu Sans Mono',consolas,'Courier New',monospace\">Repository aurelioguilherme/AmbienteDeDesenvolvimento initialized!\n",
       "</pre>\n"
      ],
      "text/plain": [
       "Repository aurelioguilherme/AmbienteDeDesenvolvimento initialized!\n"
      ]
     },
     "metadata": {},
     "output_type": "display_data"
    },
    {
     "name": "stderr",
     "output_type": "stream",
     "text": [
      "2025/01/26 21:22:17 INFO mlflow.tracking.fluent: Experiment with name 'teste3' does not exist. Creating a new experiment.\n"
     ]
    },
    {
     "name": "stdout",
     "output_type": "stream",
     "text": [
      "🏃 View run fearless-slug-64 at: https://dagshub.com/aurelioguilherme/AmbienteDeDesenvolvimento.mlflow/#/experiments/3/runs/22d1f0f8b0644bbbbfd3cdc1e476c8dd\n",
      "🧪 View experiment at: https://dagshub.com/aurelioguilherme/AmbienteDeDesenvolvimento.mlflow/#/experiments/3\n"
     ]
    }
   ],
   "source": [
    "import mlflow\n",
    "from sklearn.model_selection import train_test_split\n",
    "from sklearn.datasets import load_diabetes\n",
    "from sklearn.ensemble import AdaBoostRegressor\n",
    "from sklearn.metrics import accuracy_score, precision_score, recall_score, f1_score\n",
    "import dagshub\n",
    "\n",
    "dagshub.init(repo_owner='aurelioguilherme',\n",
    "             repo_name='AmbienteDeDesenvolvimento',\n",
    "             mlflow=True)\n",
    "\n",
    "\n",
    "# set the experiment id\n",
    "mlflow.set_experiment(experiment_name='teste3' )\n",
    "\n",
    "db = load_diabetes()\n",
    "\n",
    "X_train, X_test, y_train, y_test = train_test_split(db.data, db.target)\n",
    "\n",
    "# Create and train models.\n",
    "model = AdaBoostRegressor(random_state=42)\n",
    "with mlflow.start_run():\n",
    "    model.fit(X_train, y_train)\n",
    "\n",
    "    # Use the model to make predictions on the test dataset.\n",
    "    y_pred = model.predict(X_test)\n",
    "    mlflow.log_param('Param name', 'Value')\n"
   ]
  },
  {
   "cell_type": "code",
   "execution_count": null,
   "metadata": {},
   "outputs": [],
   "source": [
    "#with mlflow.start_run():\n",
    "#    # Treinando o modelo\n",
    "#    model.fit(X_train, y_train)\n",
    "#    y_pred = model.predict(X_test)\n",
    "#\n",
    "#    # Calculando métricas\n",
    "#    accuracy = accuracy_score(y_test, y_pred)\n",
    "#    precision = precision_score(y_test, y_pred, average='macro')\n",
    "#    recall = recall_score(y_test, y_pred, average='macro')\n",
    "#    f1 = f1_score(y_test, y_pred, average='macro')\n",
    "#\n",
    "#    # Registrando parâmetros, métricas e o modelo\n",
    "#    mlflow.log_param(\"n_estimators\", 100)\n",
    "#    mlflow.log_param(\"random_state\", 42)\n",
    "#    mlflow.log_metric(\"accuracy\", accuracy)\n",
    "#    mlflow.log_metric(\"precision\", precision)\n",
    "#    mlflow.log_metric(\"recall\", recall)\n",
    "#    mlflow.log_metric(\"f1_score\", f1)\n",
    "#\n",
    "#    # Registrando o modelo\n",
    "#    mlflow.sklearn.log_model(model, \"classification_rf_model\",input_example=X_test)\n",
    "#"
   ]
  }
 ],
 "metadata": {
  "kernelspec": {
   "display_name": ".venv",
   "language": "python",
   "name": "python3"
  },
  "language_info": {
   "codemirror_mode": {
    "name": "ipython",
    "version": 3
   },
   "file_extension": ".py",
   "mimetype": "text/x-python",
   "name": "python",
   "nbconvert_exporter": "python",
   "pygments_lexer": "ipython3",
   "version": "3.10.12"
  }
 },
 "nbformat": 4,
 "nbformat_minor": 2
}
