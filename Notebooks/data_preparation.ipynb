{
 "cells": [
  {
   "cell_type": "markdown",
   "metadata": {},
   "source": [
    "# Data Preparation."
   ]
  },
  {
   "cell_type": "code",
   "execution_count": 211,
   "metadata": {},
   "outputs": [],
   "source": [
    "# Carregando as bibliotecas\n",
    "import os\n",
    "import pandas as pd\n",
    "import numpy as np\n",
    "import seaborn as sns\n",
    "import matplotlib.pyplot as plt"
   ]
  },
  {
   "cell_type": "code",
   "execution_count": 212,
   "metadata": {},
   "outputs": [
    {
     "data": {
      "text/html": [
       "<div>\n",
       "<style scoped>\n",
       "    .dataframe tbody tr th:only-of-type {\n",
       "        vertical-align: middle;\n",
       "    }\n",
       "\n",
       "    .dataframe tbody tr th {\n",
       "        vertical-align: top;\n",
       "    }\n",
       "\n",
       "    .dataframe thead th {\n",
       "        text-align: right;\n",
       "    }\n",
       "</style>\n",
       "<table border=\"1\" class=\"dataframe\">\n",
       "  <thead>\n",
       "    <tr style=\"text-align: right;\">\n",
       "      <th></th>\n",
       "      <th>id</th>\n",
       "      <th>nome</th>\n",
       "      <th>host_id</th>\n",
       "      <th>host_name</th>\n",
       "      <th>bairro_group</th>\n",
       "      <th>bairro</th>\n",
       "      <th>latitude</th>\n",
       "      <th>longitude</th>\n",
       "      <th>room_type</th>\n",
       "      <th>price</th>\n",
       "      <th>minimo_noites</th>\n",
       "      <th>numero_de_reviews</th>\n",
       "      <th>ultima_review</th>\n",
       "      <th>reviews_por_mes</th>\n",
       "      <th>calculado_host_listings_count</th>\n",
       "      <th>disponibilidade_365</th>\n",
       "    </tr>\n",
       "  </thead>\n",
       "  <tbody>\n",
       "    <tr>\n",
       "      <th>0</th>\n",
       "      <td>2595</td>\n",
       "      <td>Skylit Midtown Castle</td>\n",
       "      <td>2845</td>\n",
       "      <td>Jennifer</td>\n",
       "      <td>Manhattan</td>\n",
       "      <td>Midtown</td>\n",
       "      <td>40.75362</td>\n",
       "      <td>-73.98377</td>\n",
       "      <td>Entire home/apt</td>\n",
       "      <td>225</td>\n",
       "      <td>1</td>\n",
       "      <td>45</td>\n",
       "      <td>2019-05-21</td>\n",
       "      <td>0.38</td>\n",
       "      <td>2</td>\n",
       "      <td>355</td>\n",
       "    </tr>\n",
       "    <tr>\n",
       "      <th>1</th>\n",
       "      <td>3647</td>\n",
       "      <td>THE VILLAGE OF HARLEM....NEW YORK !</td>\n",
       "      <td>4632</td>\n",
       "      <td>Elisabeth</td>\n",
       "      <td>Manhattan</td>\n",
       "      <td>Harlem</td>\n",
       "      <td>40.80902</td>\n",
       "      <td>-73.94190</td>\n",
       "      <td>Private room</td>\n",
       "      <td>150</td>\n",
       "      <td>3</td>\n",
       "      <td>0</td>\n",
       "      <td>NaN</td>\n",
       "      <td>NaN</td>\n",
       "      <td>1</td>\n",
       "      <td>365</td>\n",
       "    </tr>\n",
       "    <tr>\n",
       "      <th>2</th>\n",
       "      <td>3831</td>\n",
       "      <td>Cozy Entire Floor of Brownstone</td>\n",
       "      <td>4869</td>\n",
       "      <td>LisaRoxanne</td>\n",
       "      <td>Brooklyn</td>\n",
       "      <td>Clinton Hill</td>\n",
       "      <td>40.68514</td>\n",
       "      <td>-73.95976</td>\n",
       "      <td>Entire home/apt</td>\n",
       "      <td>89</td>\n",
       "      <td>1</td>\n",
       "      <td>270</td>\n",
       "      <td>2019-07-05</td>\n",
       "      <td>4.64</td>\n",
       "      <td>1</td>\n",
       "      <td>194</td>\n",
       "    </tr>\n",
       "    <tr>\n",
       "      <th>3</th>\n",
       "      <td>5022</td>\n",
       "      <td>Entire Apt: Spacious Studio/Loft by central park</td>\n",
       "      <td>7192</td>\n",
       "      <td>Laura</td>\n",
       "      <td>Manhattan</td>\n",
       "      <td>East Harlem</td>\n",
       "      <td>40.79851</td>\n",
       "      <td>-73.94399</td>\n",
       "      <td>Entire home/apt</td>\n",
       "      <td>80</td>\n",
       "      <td>10</td>\n",
       "      <td>9</td>\n",
       "      <td>2018-11-19</td>\n",
       "      <td>0.10</td>\n",
       "      <td>1</td>\n",
       "      <td>0</td>\n",
       "    </tr>\n",
       "    <tr>\n",
       "      <th>4</th>\n",
       "      <td>5099</td>\n",
       "      <td>Large Cozy 1 BR Apartment In Midtown East</td>\n",
       "      <td>7322</td>\n",
       "      <td>Chris</td>\n",
       "      <td>Manhattan</td>\n",
       "      <td>Murray Hill</td>\n",
       "      <td>40.74767</td>\n",
       "      <td>-73.97500</td>\n",
       "      <td>Entire home/apt</td>\n",
       "      <td>200</td>\n",
       "      <td>3</td>\n",
       "      <td>74</td>\n",
       "      <td>2019-06-22</td>\n",
       "      <td>0.59</td>\n",
       "      <td>1</td>\n",
       "      <td>129</td>\n",
       "    </tr>\n",
       "  </tbody>\n",
       "</table>\n",
       "</div>"
      ],
      "text/plain": [
       "     id                                              nome  host_id  \\\n",
       "0  2595                             Skylit Midtown Castle     2845   \n",
       "1  3647               THE VILLAGE OF HARLEM....NEW YORK !     4632   \n",
       "2  3831                   Cozy Entire Floor of Brownstone     4869   \n",
       "3  5022  Entire Apt: Spacious Studio/Loft by central park     7192   \n",
       "4  5099         Large Cozy 1 BR Apartment In Midtown East     7322   \n",
       "\n",
       "     host_name bairro_group        bairro  latitude  longitude  \\\n",
       "0     Jennifer    Manhattan       Midtown  40.75362  -73.98377   \n",
       "1    Elisabeth    Manhattan        Harlem  40.80902  -73.94190   \n",
       "2  LisaRoxanne     Brooklyn  Clinton Hill  40.68514  -73.95976   \n",
       "3        Laura    Manhattan   East Harlem  40.79851  -73.94399   \n",
       "4        Chris    Manhattan   Murray Hill  40.74767  -73.97500   \n",
       "\n",
       "         room_type  price  minimo_noites  numero_de_reviews ultima_review  \\\n",
       "0  Entire home/apt    225              1                 45    2019-05-21   \n",
       "1     Private room    150              3                  0           NaN   \n",
       "2  Entire home/apt     89              1                270    2019-07-05   \n",
       "3  Entire home/apt     80             10                  9    2018-11-19   \n",
       "4  Entire home/apt    200              3                 74    2019-06-22   \n",
       "\n",
       "   reviews_por_mes  calculado_host_listings_count  disponibilidade_365  \n",
       "0             0.38                              2                  355  \n",
       "1              NaN                              1                  365  \n",
       "2             4.64                              1                  194  \n",
       "3             0.10                              1                    0  \n",
       "4             0.59                              1                  129  "
      ]
     },
     "execution_count": 212,
     "metadata": {},
     "output_type": "execute_result"
    }
   ],
   "source": [
    "# Leitura dos dados\n",
    "df = pd.read_csv('../Data/teste_indicium_precificacao.csv')\n",
    "df.head()"
   ]
  },
  {
   "cell_type": "markdown",
   "metadata": {},
   "source": [
    "### ultima_review"
   ]
  },
  {
   "cell_type": "markdown",
   "metadata": {},
   "source": [
    "Transformei os dados em formato datetime e após isso efetuei o agrupamento por semestre usando o método `pd.cut()`, assim transformando em variável categórica chamada `ultima_review_semestre`. "
   ]
  },
  {
   "cell_type": "code",
   "execution_count": 164,
   "metadata": {},
   "outputs": [],
   "source": [
    "# Transformo a variável em formato data\n",
    "df['ultima_review'] = pd.to_datetime(df['ultima_review'])"
   ]
  },
  {
   "cell_type": "code",
   "execution_count": 165,
   "metadata": {},
   "outputs": [
    {
     "name": "stdout",
     "output_type": "stream",
     "text": [
      "min_date: 2011-03-28 00:00:00\n",
      "max_date: 2019-07-08 00:00:00\n"
     ]
    }
   ],
   "source": [
    "# Obtenho o mínimo e máximo\n",
    "min_date = df['ultima_review'].min()\n",
    "max_date = df['ultima_review'].max()\n",
    "\n",
    "print(F'min_date: {min_date}\\nmax_date: {max_date}')"
   ]
  },
  {
   "cell_type": "code",
   "execution_count": 166,
   "metadata": {},
   "outputs": [
    {
     "name": "stdout",
     "output_type": "stream",
     "text": [
      "min_date: 2011-01-28 00:00:00\n",
      "max_date: 2019-12-08 00:00:00\n"
     ]
    }
   ],
   "source": [
    "# Adiciono a quantidade de mes ideal para que o semestres fiquem completos\n",
    "min_date -= pd.DateOffset(months=2)\n",
    "max_date += pd.DateOffset(months=5)\n",
    "print(F'min_date: {min_date}\\nmax_date: {max_date}')"
   ]
  },
  {
   "cell_type": "code",
   "execution_count": 167,
   "metadata": {},
   "outputs": [
    {
     "data": {
      "text/plain": [
       "DatetimeIndex(['2011-01-31', '2011-07-31', '2012-01-31', '2012-07-31',\n",
       "               '2013-01-31', '2013-07-31', '2014-01-31', '2014-07-31',\n",
       "               '2015-01-31', '2015-07-31', '2016-01-31', '2016-07-31',\n",
       "               '2017-01-31', '2017-07-31', '2018-01-31', '2018-07-31',\n",
       "               '2019-01-31', '2019-07-31'],\n",
       "              dtype='datetime64[ns]', freq='6ME')"
      ]
     },
     "execution_count": 167,
     "metadata": {},
     "output_type": "execute_result"
    }
   ],
   "source": [
    "# Crio o range de datas separados em 6 meses\n",
    "bins = pd.date_range(start=min_date, end=max_date, freq='6ME')\n",
    "bins"
   ]
  },
  {
   "cell_type": "code",
   "execution_count": 168,
   "metadata": {},
   "outputs": [
    {
     "data": {
      "text/plain": [
       "['2011-1-semestre',\n",
       " '2011-2-semestre',\n",
       " '2012-1-semestre',\n",
       " '2012-2-semestre',\n",
       " '2013-1-semestre',\n",
       " '2013-2-semestre',\n",
       " '2014-1-semestre',\n",
       " '2014-2-semestre',\n",
       " '2015-1-semestre',\n",
       " '2015-2-semestre',\n",
       " '2016-1-semestre',\n",
       " '2016-2-semestre',\n",
       " '2017-1-semestre',\n",
       " '2017-2-semestre',\n",
       " '2018-1-semestre',\n",
       " '2018-2-semestre',\n",
       " '2019-1-semestre']"
      ]
     },
     "execution_count": 168,
     "metadata": {},
     "output_type": "execute_result"
    }
   ],
   "source": [
    "# Faço um loop for com os bins para criar uma lista com as labels do meu agrupamento.\n",
    "labels = []\n",
    "for b in bins:\n",
    "    if b.month == 1:\n",
    "        labels.append(f'{b.year}-1-semestre')\n",
    "    else:\n",
    "        labels.append(f'{b.year}-2-semestre')\n",
    "\n",
    "''' \n",
    "Apago o ultimo elemento da lista justamente para minhas labels tenha 1 elemento a menos\n",
    "seguindo a sintaxe do pd.cut()   \n",
    "'''    \n",
    "labels.pop()\n",
    "labels"
   ]
  },
  {
   "cell_type": "code",
   "execution_count": 169,
   "metadata": {},
   "outputs": [
    {
     "data": {
      "text/html": [
       "<div>\n",
       "<style scoped>\n",
       "    .dataframe tbody tr th:only-of-type {\n",
       "        vertical-align: middle;\n",
       "    }\n",
       "\n",
       "    .dataframe tbody tr th {\n",
       "        vertical-align: top;\n",
       "    }\n",
       "\n",
       "    .dataframe thead th {\n",
       "        text-align: right;\n",
       "    }\n",
       "</style>\n",
       "<table border=\"1\" class=\"dataframe\">\n",
       "  <thead>\n",
       "    <tr style=\"text-align: right;\">\n",
       "      <th></th>\n",
       "      <th>ultima_review_semestre</th>\n",
       "      <th>ultima_review</th>\n",
       "    </tr>\n",
       "  </thead>\n",
       "  <tbody>\n",
       "    <tr>\n",
       "      <th>0</th>\n",
       "      <td>2019-1-semestre</td>\n",
       "      <td>2019-05-21</td>\n",
       "    </tr>\n",
       "    <tr>\n",
       "      <th>1</th>\n",
       "      <td>NaN</td>\n",
       "      <td>NaT</td>\n",
       "    </tr>\n",
       "    <tr>\n",
       "      <th>2</th>\n",
       "      <td>2019-1-semestre</td>\n",
       "      <td>2019-07-05</td>\n",
       "    </tr>\n",
       "    <tr>\n",
       "      <th>3</th>\n",
       "      <td>2018-2-semestre</td>\n",
       "      <td>2018-11-19</td>\n",
       "    </tr>\n",
       "    <tr>\n",
       "      <th>4</th>\n",
       "      <td>2019-1-semestre</td>\n",
       "      <td>2019-06-22</td>\n",
       "    </tr>\n",
       "  </tbody>\n",
       "</table>\n",
       "</div>"
      ],
      "text/plain": [
       "  ultima_review_semestre ultima_review\n",
       "0        2019-1-semestre    2019-05-21\n",
       "1                    NaN           NaT\n",
       "2        2019-1-semestre    2019-07-05\n",
       "3        2018-2-semestre    2018-11-19\n",
       "4        2019-1-semestre    2019-06-22"
      ]
     },
     "execution_count": 169,
     "metadata": {},
     "output_type": "execute_result"
    }
   ],
   "source": [
    "# Criei a coluna de agrupamento semestral\n",
    "df['ultima_review_semestre'] = pd.cut(df['ultima_review'], bins=bins, labels=labels)\n",
    "\n",
    "# Exibindo os dados\n",
    "df[['ultima_review_semestre', 'ultima_review']].head()"
   ]
  },
  {
   "cell_type": "code",
   "execution_count": 170,
   "metadata": {},
   "outputs": [
    {
     "name": "stdout",
     "output_type": "stream",
     "text": [
      "<class 'pandas.core.frame.DataFrame'>\n",
      "RangeIndex: 48894 entries, 0 to 48893\n",
      "Data columns (total 2 columns):\n",
      " #   Column                  Non-Null Count  Dtype         \n",
      "---  ------                  --------------  -----         \n",
      " 0   ultima_review_semestre  38842 non-null  category      \n",
      " 1   ultima_review           38842 non-null  datetime64[ns]\n",
      "dtypes: category(1), datetime64[ns](1)\n",
      "memory usage: 430.5 KB\n"
     ]
    }
   ],
   "source": [
    "# Mostrando informações descritivas\n",
    "df[['ultima_review_semestre','ultima_review']].info()"
   ]
  },
  {
   "cell_type": "markdown",
   "metadata": {},
   "source": [
    "### minimo_noites"
   ]
  },
  {
   "cell_type": "markdown",
   "metadata": {},
   "source": [
    "Utilizei o método `pd.cut` para criar a categoria `minimo_noites_categorico` com os seguintes agrupamentos:\n",
    "\n",
    "- Entre_1_a_3_Dias\n",
    "- Entre_3_a_7_Dias\n",
    "- Entre_1 e 2 Semanas\n",
    "- Entre_2_Semanas_e_1_Mes\n",
    "- Entre_1_Mes_e_2_Meses\n",
    "- Entre_2_Meses_e_6_Meses\n",
    "- Entre_6_Meses_e_1_Ano\n",
    "- Mais_de_1_Ano"
   ]
  },
  {
   "cell_type": "code",
   "execution_count": 171,
   "metadata": {},
   "outputs": [],
   "source": [
    "# Criei as bins representando o intervalo \n",
    "bins = [0, 3, 7, 14, 30, 60, 180, 365 ,float('inf')]\n",
    "\n",
    "# Criei as labels para cada intervalo\n",
    "labels = ['Entre_1_a_3_Dias',\n",
    "          'Entre_3_a_7_Dias', \n",
    "          'Entre_1_e_2_Semanas', \n",
    "          'Entre_2_Semanas_e_1_Mes',   \n",
    "          'Entre_1_Mes_e_2_Meses',\n",
    "          'Entre_1_Meses_e_6_Meses',\n",
    "          'Entre_6_Meses_e_1_Ano',\n",
    "          'Mais_de_1_Ano']\n",
    "\n",
    "# Criei a coluna de agrupamento minimo_noites de forma categórica\n",
    "df['minimo_noites_categorico'] = pd.cut(df['minimo_noites'], bins=bins,labels=labels).astype('object')"
   ]
  },
  {
   "cell_type": "code",
   "execution_count": 172,
   "metadata": {},
   "outputs": [
    {
     "data": {
      "text/html": [
       "<div>\n",
       "<style scoped>\n",
       "    .dataframe tbody tr th:only-of-type {\n",
       "        vertical-align: middle;\n",
       "    }\n",
       "\n",
       "    .dataframe tbody tr th {\n",
       "        vertical-align: top;\n",
       "    }\n",
       "\n",
       "    .dataframe thead th {\n",
       "        text-align: right;\n",
       "    }\n",
       "</style>\n",
       "<table border=\"1\" class=\"dataframe\">\n",
       "  <thead>\n",
       "    <tr style=\"text-align: right;\">\n",
       "      <th></th>\n",
       "      <th>minimo_noites_categorico</th>\n",
       "      <th>minimo_noites</th>\n",
       "    </tr>\n",
       "  </thead>\n",
       "  <tbody>\n",
       "    <tr>\n",
       "      <th>0</th>\n",
       "      <td>Entre_1_a_3_Dias</td>\n",
       "      <td>1</td>\n",
       "    </tr>\n",
       "    <tr>\n",
       "      <th>1</th>\n",
       "      <td>Entre_1_a_3_Dias</td>\n",
       "      <td>3</td>\n",
       "    </tr>\n",
       "    <tr>\n",
       "      <th>2</th>\n",
       "      <td>Entre_1_a_3_Dias</td>\n",
       "      <td>1</td>\n",
       "    </tr>\n",
       "    <tr>\n",
       "      <th>3</th>\n",
       "      <td>Entre_1_e_2_Semanas</td>\n",
       "      <td>10</td>\n",
       "    </tr>\n",
       "    <tr>\n",
       "      <th>4</th>\n",
       "      <td>Entre_1_a_3_Dias</td>\n",
       "      <td>3</td>\n",
       "    </tr>\n",
       "  </tbody>\n",
       "</table>\n",
       "</div>"
      ],
      "text/plain": [
       "  minimo_noites_categorico  minimo_noites\n",
       "0         Entre_1_a_3_Dias              1\n",
       "1         Entre_1_a_3_Dias              3\n",
       "2         Entre_1_a_3_Dias              1\n",
       "3      Entre_1_e_2_Semanas             10\n",
       "4         Entre_1_a_3_Dias              3"
      ]
     },
     "execution_count": 172,
     "metadata": {},
     "output_type": "execute_result"
    }
   ],
   "source": [
    "df[['minimo_noites_categorico', 'minimo_noites']].head() "
   ]
  },
  {
   "cell_type": "code",
   "execution_count": 173,
   "metadata": {},
   "outputs": [
    {
     "name": "stdout",
     "output_type": "stream",
     "text": [
      "<class 'pandas.core.frame.DataFrame'>\n",
      "RangeIndex: 48894 entries, 0 to 48893\n",
      "Data columns (total 2 columns):\n",
      " #   Column                    Non-Null Count  Dtype \n",
      "---  ------                    --------------  ----- \n",
      " 0   minimo_noites_categorico  48894 non-null  object\n",
      " 1   minimo_noites             48894 non-null  int64 \n",
      "dtypes: int64(1), object(1)\n",
      "memory usage: 764.1+ KB\n"
     ]
    }
   ],
   "source": [
    "df[['minimo_noites_categorico', 'minimo_noites']].info()"
   ]
  },
  {
   "cell_type": "markdown",
   "metadata": {},
   "source": [
    "### Disponibilidade 365"
   ]
  },
  {
   "cell_type": "markdown",
   "metadata": {},
   "source": [
    "Utilizei o método `pd.cut` para criar a categoria `disponibilidade_365_categorico` com os seguintes agrupamentos:\n",
    "\n",
    "- 0_Dias\n",
    "- Entre_1_a_3_Dias\n",
    "- Entre_3_a_7_Dias\n",
    "- Entre_1 e 2 Semanas\n",
    "- Entre_2_Semanas_e_1_Mes\n",
    "- Entre_1_Mes_e_2_Meses\n",
    "- Entre_2_Meses_e_6_Meses\n",
    "- Entre_6_Meses_e_1_Ano\n",
    "- 1_Ano"
   ]
  },
  {
   "cell_type": "code",
   "execution_count": 174,
   "metadata": {},
   "outputs": [],
   "source": [
    "# Criei as bins representando o intervalo \n",
    "bins = [-1,0, 3, 7, 14, 30, 60, 180, 364 , float('inf')]\n",
    "\n",
    "# Criei as labels para cada intervalo\n",
    "labels = ['0_Dias',\n",
    "          'Entre_1_a_3_Dias',\n",
    "          'Entre_3_a_7_Dias', \n",
    "          'Entre_1 e 2 Semanas', \n",
    "          'Entre_2_Semanas_e_1_Mes',   \n",
    "          'Entre_1_Mes_e_2_Meses',\n",
    "          'Entre_2_Meses_e_6_Meses',\n",
    "          'Entre_6_Meses_e_1_Ano',\n",
    "          '1_Ano']\n",
    "\n",
    "# Criei a coluna de agrupamento disponibilidade_365 de forma categórica\n",
    "df['disponibilidade_365_categorico'] = pd.cut(df['disponibilidade_365'], bins=bins, labels=labels)"
   ]
  },
  {
   "cell_type": "code",
   "execution_count": 175,
   "metadata": {},
   "outputs": [
    {
     "data": {
      "text/html": [
       "<div>\n",
       "<style scoped>\n",
       "    .dataframe tbody tr th:only-of-type {\n",
       "        vertical-align: middle;\n",
       "    }\n",
       "\n",
       "    .dataframe tbody tr th {\n",
       "        vertical-align: top;\n",
       "    }\n",
       "\n",
       "    .dataframe thead th {\n",
       "        text-align: right;\n",
       "    }\n",
       "</style>\n",
       "<table border=\"1\" class=\"dataframe\">\n",
       "  <thead>\n",
       "    <tr style=\"text-align: right;\">\n",
       "      <th></th>\n",
       "      <th>disponibilidade_365_categorico</th>\n",
       "      <th>disponibilidade_365</th>\n",
       "    </tr>\n",
       "  </thead>\n",
       "  <tbody>\n",
       "    <tr>\n",
       "      <th>0</th>\n",
       "      <td>Entre_6_Meses_e_1_Ano</td>\n",
       "      <td>355</td>\n",
       "    </tr>\n",
       "    <tr>\n",
       "      <th>1</th>\n",
       "      <td>1_Ano</td>\n",
       "      <td>365</td>\n",
       "    </tr>\n",
       "    <tr>\n",
       "      <th>2</th>\n",
       "      <td>Entre_6_Meses_e_1_Ano</td>\n",
       "      <td>194</td>\n",
       "    </tr>\n",
       "    <tr>\n",
       "      <th>3</th>\n",
       "      <td>0_Dias</td>\n",
       "      <td>0</td>\n",
       "    </tr>\n",
       "    <tr>\n",
       "      <th>4</th>\n",
       "      <td>Entre_2_Meses_e_6_Meses</td>\n",
       "      <td>129</td>\n",
       "    </tr>\n",
       "  </tbody>\n",
       "</table>\n",
       "</div>"
      ],
      "text/plain": [
       "  disponibilidade_365_categorico  disponibilidade_365\n",
       "0          Entre_6_Meses_e_1_Ano                  355\n",
       "1                          1_Ano                  365\n",
       "2          Entre_6_Meses_e_1_Ano                  194\n",
       "3                         0_Dias                    0\n",
       "4        Entre_2_Meses_e_6_Meses                  129"
      ]
     },
     "execution_count": 175,
     "metadata": {},
     "output_type": "execute_result"
    }
   ],
   "source": [
    "df[['disponibilidade_365_categorico','disponibilidade_365']].head()"
   ]
  },
  {
   "cell_type": "code",
   "execution_count": 176,
   "metadata": {},
   "outputs": [
    {
     "name": "stdout",
     "output_type": "stream",
     "text": [
      "<class 'pandas.core.frame.DataFrame'>\n",
      "RangeIndex: 48894 entries, 0 to 48893\n",
      "Data columns (total 2 columns):\n",
      " #   Column                          Non-Null Count  Dtype   \n",
      "---  ------                          --------------  -----   \n",
      " 0   disponibilidade_365_categorico  48894 non-null  category\n",
      " 1   disponibilidade_365             48894 non-null  int64   \n",
      "dtypes: category(1), int64(1)\n",
      "memory usage: 430.2 KB\n"
     ]
    }
   ],
   "source": [
    "df[['disponibilidade_365_categorico','disponibilidade_365']].info()"
   ]
  },
  {
   "cell_type": "markdown",
   "metadata": {},
   "source": [
    "### Preenchendo valores ausentes"
   ]
  },
  {
   "cell_type": "markdown",
   "metadata": {},
   "source": [
    "Verifiquei se existem valores presentes quando não existem reviews, após isso confirmei que não possui valores e assim efetuei o preenchimento dos valores ausentes nas colunas `ultima_review` e `semestre` como \"anuncio_sem_review\".\n",
    "A coluna `reviews_por_mes` preenchi com valores \"0\" para esses registros.\n",
    "\n",
    "Criei uma coluna chamada `valor_prenchido` do tipo booleana indicando que os valores foram preenchidos, justamente para usar na etapa da modelagem e ter a possibilidade penalizar esses valores preenchidos, fazendo assim o modelo atribuir menos importancia a esses valores."
   ]
  },
  {
   "cell_type": "code",
   "execution_count": 177,
   "metadata": {},
   "outputs": [
    {
     "name": "stdout",
     "output_type": "stream",
     "text": [
      "<class 'pandas.core.frame.DataFrame'>\n",
      "Index: 10052 entries, 1 to 48893\n",
      "Data columns (total 3 columns):\n",
      " #   Column             Non-Null Count  Dtype         \n",
      "---  ------             --------------  -----         \n",
      " 0   numero_de_reviews  10052 non-null  int64         \n",
      " 1   ultima_review      0 non-null      datetime64[ns]\n",
      " 2   reviews_por_mes    0 non-null      float64       \n",
      "dtypes: datetime64[ns](1), float64(1), int64(1)\n",
      "memory usage: 314.1 KB\n"
     ]
    }
   ],
   "source": [
    "df[['numero_de_reviews', 'ultima_review', 'reviews_por_mes']].query('numero_de_reviews == 0').info()"
   ]
  },
  {
   "cell_type": "code",
   "execution_count": 178,
   "metadata": {},
   "outputs": [],
   "source": [
    "df['ultima_review_semestre'] = df['ultima_review_semestre'].cat.add_categories('anuncio_sem_review')\n",
    "df[['ultima_review','ultima_review_semestre']] = df[['ultima_review','ultima_review_semestre']].fillna('anuncio_sem_review')"
   ]
  },
  {
   "cell_type": "code",
   "execution_count": 179,
   "metadata": {},
   "outputs": [
    {
     "data": {
      "text/plain": [
       "0"
      ]
     },
     "execution_count": 179,
     "metadata": {},
     "output_type": "execute_result"
    }
   ],
   "source": [
    "len(df.query('reviews_por_mes == 0'))"
   ]
  },
  {
   "cell_type": "code",
   "execution_count": 180,
   "metadata": {},
   "outputs": [
    {
     "data": {
      "text/plain": [
       "10052"
      ]
     },
     "execution_count": 180,
     "metadata": {},
     "output_type": "execute_result"
    }
   ],
   "source": [
    "df['reviews_por_mes'] = df['reviews_por_mes'].fillna(0)\n",
    "len(df.query('reviews_por_mes == 0'))"
   ]
  },
  {
   "cell_type": "code",
   "execution_count": 181,
   "metadata": {},
   "outputs": [],
   "source": [
    "df['valor_preenchido'] = df['reviews_por_mes'].apply(lambda x: True if x==0 else False)"
   ]
  },
  {
   "cell_type": "code",
   "execution_count": 182,
   "metadata": {},
   "outputs": [
    {
     "name": "stdout",
     "output_type": "stream",
     "text": [
      "<class 'pandas.core.frame.DataFrame'>\n",
      "RangeIndex: 48894 entries, 0 to 48893\n",
      "Data columns (total 5 columns):\n",
      " #   Column                  Non-Null Count  Dtype   \n",
      "---  ------                  --------------  -----   \n",
      " 0   numero_de_reviews       48894 non-null  int64   \n",
      " 1   ultima_review           48894 non-null  object  \n",
      " 2   reviews_por_mes         48894 non-null  float64 \n",
      " 3   ultima_review_semestre  48894 non-null  category\n",
      " 4   valor_preenchido        48894 non-null  bool    \n",
      "dtypes: bool(1), category(1), float64(1), int64(1), object(1)\n",
      "memory usage: 1.2+ MB\n"
     ]
    }
   ],
   "source": [
    "df[['numero_de_reviews', 'ultima_review', 'reviews_por_mes','ultima_review_semestre','valor_preenchido']].info()"
   ]
  },
  {
   "cell_type": "markdown",
   "metadata": {},
   "source": [
    "### Price"
   ]
  },
  {
   "cell_type": "markdown",
   "metadata": {},
   "source": [
    "Como discutido na etapa data understanding, a variável price possui 11 valores atribuidos como \"0\", representando possivelmente um erro de coleta/atribuição.\n",
    "\n",
    "Efetuei a remoção dos mesmos."
   ]
  },
  {
   "cell_type": "code",
   "execution_count": 183,
   "metadata": {},
   "outputs": [
    {
     "data": {
      "text/plain": [
       "11"
      ]
     },
     "execution_count": 183,
     "metadata": {},
     "output_type": "execute_result"
    }
   ],
   "source": [
    "len(df[df['price'] == 0])"
   ]
  },
  {
   "cell_type": "code",
   "execution_count": 184,
   "metadata": {},
   "outputs": [],
   "source": [
    "df = df[df['price'] != 0]"
   ]
  },
  {
   "cell_type": "markdown",
   "metadata": {},
   "source": [
    "### Corrigindo a contagem de calculado_host_listings_count"
   ]
  },
  {
   "cell_type": "markdown",
   "metadata": {},
   "source": [
    "Na analise exploratória, identifiquei que alguns `host_id` possuia uma quantidade diferente da mostrada em `calculado_host_listings_count`.\n",
    "\n",
    "Desta forma efetuei a correção desses valores.\n"
   ]
  },
  {
   "cell_type": "code",
   "execution_count": 185,
   "metadata": {},
   "outputs": [
    {
     "data": {
      "text/plain": [
       "host_id\n",
       "4396       2\n",
       "3867       2\n",
       "3647       2\n",
       "2881       2\n",
       "1641537    1\n",
       "Name: count, dtype: int64"
      ]
     },
     "execution_count": 185,
     "metadata": {},
     "output_type": "execute_result"
    }
   ],
   "source": [
    "# Exemplo do problema identificado\n",
    "df.query(f'calculado_host_listings_count == 2').value_counts('host_id').tail()"
   ]
  },
  {
   "cell_type": "code",
   "execution_count": 186,
   "metadata": {},
   "outputs": [
    {
     "data": {
      "text/html": [
       "<div>\n",
       "<style scoped>\n",
       "    .dataframe tbody tr th:only-of-type {\n",
       "        vertical-align: middle;\n",
       "    }\n",
       "\n",
       "    .dataframe tbody tr th {\n",
       "        vertical-align: top;\n",
       "    }\n",
       "\n",
       "    .dataframe thead th {\n",
       "        text-align: right;\n",
       "    }\n",
       "</style>\n",
       "<table border=\"1\" class=\"dataframe\">\n",
       "  <thead>\n",
       "    <tr style=\"text-align: right;\">\n",
       "      <th></th>\n",
       "      <th>id</th>\n",
       "      <th>nome</th>\n",
       "      <th>host_id</th>\n",
       "      <th>host_name</th>\n",
       "      <th>bairro_group</th>\n",
       "      <th>bairro</th>\n",
       "      <th>latitude</th>\n",
       "      <th>longitude</th>\n",
       "      <th>room_type</th>\n",
       "      <th>price</th>\n",
       "      <th>minimo_noites</th>\n",
       "      <th>numero_de_reviews</th>\n",
       "      <th>ultima_review</th>\n",
       "      <th>reviews_por_mes</th>\n",
       "      <th>calculado_host_listings_count</th>\n",
       "      <th>disponibilidade_365</th>\n",
       "      <th>ultima_review_semestre</th>\n",
       "      <th>minimo_noites_categorico</th>\n",
       "      <th>disponibilidade_365_categorico</th>\n",
       "      <th>valor_preenchido</th>\n",
       "    </tr>\n",
       "  </thead>\n",
       "  <tbody>\n",
       "    <tr>\n",
       "      <th>9520</th>\n",
       "      <td>7311209</td>\n",
       "      <td>SUPER HUGE ROOM IN GREENPOINT BK</td>\n",
       "      <td>1641537</td>\n",
       "      <td>Lauren</td>\n",
       "      <td>Brooklyn</td>\n",
       "      <td>Greenpoint</td>\n",
       "      <td>40.72503</td>\n",
       "      <td>-73.93909</td>\n",
       "      <td>Private room</td>\n",
       "      <td>53</td>\n",
       "      <td>7</td>\n",
       "      <td>7</td>\n",
       "      <td>2016-03-09 00:00:00</td>\n",
       "      <td>0.15</td>\n",
       "      <td>2</td>\n",
       "      <td>0</td>\n",
       "      <td>2016-1-semestre</td>\n",
       "      <td>Entre_3_a_7_Dias</td>\n",
       "      <td>0_Dias</td>\n",
       "      <td>False</td>\n",
       "    </tr>\n",
       "  </tbody>\n",
       "</table>\n",
       "</div>"
      ],
      "text/plain": [
       "           id                              nome  host_id host_name  \\\n",
       "9520  7311209  SUPER HUGE ROOM IN GREENPOINT BK  1641537    Lauren   \n",
       "\n",
       "     bairro_group      bairro  latitude  longitude     room_type  price  \\\n",
       "9520     Brooklyn  Greenpoint  40.72503  -73.93909  Private room     53   \n",
       "\n",
       "      minimo_noites  numero_de_reviews        ultima_review  reviews_por_mes  \\\n",
       "9520              7                  7  2016-03-09 00:00:00             0.15   \n",
       "\n",
       "      calculado_host_listings_count  disponibilidade_365  \\\n",
       "9520                              2                    0   \n",
       "\n",
       "     ultima_review_semestre minimo_noites_categorico  \\\n",
       "9520        2016-1-semestre         Entre_3_a_7_Dias   \n",
       "\n",
       "     disponibilidade_365_categorico  valor_preenchido  \n",
       "9520                         0_Dias             False  "
      ]
     },
     "execution_count": 186,
     "metadata": {},
     "output_type": "execute_result"
    }
   ],
   "source": [
    "df.query('host_id == 1641537')"
   ]
  },
  {
   "cell_type": "markdown",
   "metadata": {},
   "source": [
    "Utilizei um loop para iterar sobre o DataFrame e identificar quais valores na coluna `calculado_host_listings_count` apresentavam inconsistências em relação aos valores esperados. \n",
    "\n",
    "Para isso, utilizei o tipo set, que retorna apenas os valores únicos de um conjunto de dados. Em cada iteração, apliquei a função len() ao conjunto de valores únicos, caso o resultado fosse diferente de 1, isso indicava a presença de inconsistências."
   ]
  },
  {
   "cell_type": "code",
   "execution_count": 187,
   "metadata": {},
   "outputs": [],
   "source": [
    "# Separei as colunas necessárias para essa análise, criei uma lista com os valores únicos \n",
    "# em \"calculado_host_listings_count\" e criei um dataframe vazio.\n",
    "df_problema = df[['host_id', 'calculado_host_listings_count']]\n",
    "ids = list(df_problema['calculado_host_listings_count'].unique())\n",
    "df_teste = pd.DataFrame()\n",
    "\n",
    "# loop com os valores únicos armazenando o resultado do tamanho do objeto set\n",
    "for i in ids:\n",
    "    tamanho_teste = len(set(df_problema.query(f'calculado_host_listings_count == {i}')\\\n",
    "                                       .value_counts('host_id')))\n",
    "    \n",
    "    # Compara se o valor é diferente de 1\n",
    "    if tamanho_teste != 1:\n",
    "        # Calcula a quantidade de host_ids verdadeira\n",
    "        host_ids_counts_df = pd.DataFrame(df.query(f'calculado_host_listings_count == {i}')\\\n",
    "                                            .value_counts('host_id'))\\\n",
    "                                            .reset_index()\n",
    "        \n",
    "        # Filtra somente os valores incosistentes\n",
    "        host_ids_counts = host_ids_counts_df[host_ids_counts_df['count'] != i]\n",
    "\n",
    "        # Concatena os valores ao DataFrame. \n",
    "        df_teste = pd.concat([df_teste, host_ids_counts])"
   ]
  },
  {
   "cell_type": "markdown",
   "metadata": {},
   "source": [
    "Parte deste erro é apresentado justamente devido a remoção de dados com preço \"0\", de todo modo, é necessária a correção, pois o host_id 2787 já está atribuido originalmente de forma incorreta."
   ]
  },
  {
   "cell_type": "code",
   "execution_count": 188,
   "metadata": {},
   "outputs": [
    {
     "data": {
      "text/html": [
       "<div>\n",
       "<style scoped>\n",
       "    .dataframe tbody tr th:only-of-type {\n",
       "        vertical-align: middle;\n",
       "    }\n",
       "\n",
       "    .dataframe tbody tr th {\n",
       "        vertical-align: top;\n",
       "    }\n",
       "\n",
       "    .dataframe thead th {\n",
       "        text-align: right;\n",
       "    }\n",
       "</style>\n",
       "<table border=\"1\" class=\"dataframe\">\n",
       "  <thead>\n",
       "    <tr style=\"text-align: right;\">\n",
       "      <th></th>\n",
       "      <th>host_id</th>\n",
       "      <th>calculado_host_listings_count</th>\n",
       "    </tr>\n",
       "  </thead>\n",
       "  <tbody>\n",
       "    <tr>\n",
       "      <th>3328</th>\n",
       "      <td>1641537</td>\n",
       "      <td>1</td>\n",
       "    </tr>\n",
       "    <tr>\n",
       "      <th>358</th>\n",
       "      <td>131697576</td>\n",
       "      <td>3</td>\n",
       "    </tr>\n",
       "    <tr>\n",
       "      <th>359</th>\n",
       "      <td>8993084</td>\n",
       "      <td>3</td>\n",
       "    </tr>\n",
       "    <tr>\n",
       "      <th>92</th>\n",
       "      <td>2787</td>\n",
       "      <td>5</td>\n",
       "    </tr>\n",
       "    <tr>\n",
       "      <th>93</th>\n",
       "      <td>101970559</td>\n",
       "      <td>4</td>\n",
       "    </tr>\n",
       "    <tr>\n",
       "      <th>94</th>\n",
       "      <td>86327101</td>\n",
       "      <td>3</td>\n",
       "    </tr>\n",
       "    <tr>\n",
       "      <th>168</th>\n",
       "      <td>15787004</td>\n",
       "      <td>4</td>\n",
       "    </tr>\n",
       "  </tbody>\n",
       "</table>\n",
       "</div>"
      ],
      "text/plain": [
       "        host_id  calculado_host_listings_count\n",
       "3328    1641537                              1\n",
       "358   131697576                              3\n",
       "359     8993084                              3\n",
       "92         2787                              5\n",
       "93    101970559                              4\n",
       "94     86327101                              3\n",
       "168    15787004                              4"
      ]
     },
     "execution_count": 188,
     "metadata": {},
     "output_type": "execute_result"
    }
   ],
   "source": [
    "# Dados incorretos\n",
    "df_teste = df_teste.rename({'count': 'calculado_host_listings_count'}, axis = 1)\n",
    "df_teste"
   ]
  },
  {
   "cell_type": "code",
   "execution_count": 189,
   "metadata": {},
   "outputs": [],
   "source": [
    "# Loop para preencher os valores incorretos.\n",
    "for i, row in df_teste.iterrows():\n",
    "    df.loc[df['host_id'] == row['host_id'], 'calculado_host_listings_count'] = row['calculado_host_listings_count']"
   ]
  },
  {
   "cell_type": "code",
   "execution_count": 190,
   "metadata": {},
   "outputs": [
    {
     "data": {
      "text/html": [
       "<div>\n",
       "<style scoped>\n",
       "    .dataframe tbody tr th:only-of-type {\n",
       "        vertical-align: middle;\n",
       "    }\n",
       "\n",
       "    .dataframe tbody tr th {\n",
       "        vertical-align: top;\n",
       "    }\n",
       "\n",
       "    .dataframe thead th {\n",
       "        text-align: right;\n",
       "    }\n",
       "</style>\n",
       "<table border=\"1\" class=\"dataframe\">\n",
       "  <thead>\n",
       "    <tr style=\"text-align: right;\">\n",
       "      <th></th>\n",
       "      <th>id</th>\n",
       "      <th>nome</th>\n",
       "      <th>host_id</th>\n",
       "      <th>host_name</th>\n",
       "      <th>bairro_group</th>\n",
       "      <th>bairro</th>\n",
       "      <th>latitude</th>\n",
       "      <th>longitude</th>\n",
       "      <th>room_type</th>\n",
       "      <th>price</th>\n",
       "      <th>minimo_noites</th>\n",
       "      <th>numero_de_reviews</th>\n",
       "      <th>ultima_review</th>\n",
       "      <th>reviews_por_mes</th>\n",
       "      <th>calculado_host_listings_count</th>\n",
       "      <th>disponibilidade_365</th>\n",
       "      <th>ultima_review_semestre</th>\n",
       "      <th>minimo_noites_categorico</th>\n",
       "      <th>disponibilidade_365_categorico</th>\n",
       "      <th>valor_preenchido</th>\n",
       "    </tr>\n",
       "  </thead>\n",
       "  <tbody>\n",
       "    <tr>\n",
       "      <th>9520</th>\n",
       "      <td>7311209</td>\n",
       "      <td>SUPER HUGE ROOM IN GREENPOINT BK</td>\n",
       "      <td>1641537</td>\n",
       "      <td>Lauren</td>\n",
       "      <td>Brooklyn</td>\n",
       "      <td>Greenpoint</td>\n",
       "      <td>40.72503</td>\n",
       "      <td>-73.93909</td>\n",
       "      <td>Private room</td>\n",
       "      <td>53</td>\n",
       "      <td>7</td>\n",
       "      <td>7</td>\n",
       "      <td>2016-03-09 00:00:00</td>\n",
       "      <td>0.15</td>\n",
       "      <td>1</td>\n",
       "      <td>0</td>\n",
       "      <td>2016-1-semestre</td>\n",
       "      <td>Entre_3_a_7_Dias</td>\n",
       "      <td>0_Dias</td>\n",
       "      <td>False</td>\n",
       "    </tr>\n",
       "  </tbody>\n",
       "</table>\n",
       "</div>"
      ],
      "text/plain": [
       "           id                              nome  host_id host_name  \\\n",
       "9520  7311209  SUPER HUGE ROOM IN GREENPOINT BK  1641537    Lauren   \n",
       "\n",
       "     bairro_group      bairro  latitude  longitude     room_type  price  \\\n",
       "9520     Brooklyn  Greenpoint  40.72503  -73.93909  Private room     53   \n",
       "\n",
       "      minimo_noites  numero_de_reviews        ultima_review  reviews_por_mes  \\\n",
       "9520              7                  7  2016-03-09 00:00:00             0.15   \n",
       "\n",
       "      calculado_host_listings_count  disponibilidade_365  \\\n",
       "9520                              1                    0   \n",
       "\n",
       "     ultima_review_semestre minimo_noites_categorico  \\\n",
       "9520        2016-1-semestre         Entre_3_a_7_Dias   \n",
       "\n",
       "     disponibilidade_365_categorico  valor_preenchido  \n",
       "9520                         0_Dias             False  "
      ]
     },
     "execution_count": 190,
     "metadata": {},
     "output_type": "execute_result"
    }
   ],
   "source": [
    "# Exibindo o resultado\n",
    "df.query('host_id == 1641537')"
   ]
  },
  {
   "cell_type": "markdown",
   "metadata": {},
   "source": [
    "- bairro_group - dummizar\n",
    "- room_type - dummizar\n",
    "- price - (y) normalizar\n",
    "- numero_de_reviews - normalizar\n",
    "- reviews_por_mes - normazliar\n",
    "- calculado_host_listings_count - normalizar\n",
    "- ultima_review_semestre - dumizar\n",
    "- minimo_noites_categorico - dummizar\n",
    "- disponibilidade_365_categorico - dummizar\n",
    "- valor_preenchido - dummizar\n",
    "\n",
    "- definir X e y\n",
    "\n",
    "- separar em treino e teste\n",
    "\n",
    "- criar classe para fazer tudo"
   ]
  },
  {
   "cell_type": "code",
   "execution_count": 191,
   "metadata": {},
   "outputs": [
    {
     "data": {
      "text/plain": [
       "221"
      ]
     },
     "execution_count": 191,
     "metadata": {},
     "output_type": "execute_result"
    }
   ],
   "source": [
    "df.bairro.nunique()"
   ]
  },
  {
   "cell_type": "markdown",
   "metadata": {},
   "source": [
    "# Analise"
   ]
  },
  {
   "cell_type": "code",
   "execution_count": 193,
   "metadata": {},
   "outputs": [
    {
     "data": {
      "text/html": [
       "<div>\n",
       "<style scoped>\n",
       "    .dataframe tbody tr th:only-of-type {\n",
       "        vertical-align: middle;\n",
       "    }\n",
       "\n",
       "    .dataframe tbody tr th {\n",
       "        vertical-align: top;\n",
       "    }\n",
       "\n",
       "    .dataframe thead th {\n",
       "        text-align: right;\n",
       "    }\n",
       "</style>\n",
       "<table border=\"1\" class=\"dataframe\">\n",
       "  <thead>\n",
       "    <tr style=\"text-align: right;\">\n",
       "      <th></th>\n",
       "      <th>id</th>\n",
       "      <th>nome</th>\n",
       "      <th>host_id</th>\n",
       "      <th>host_name</th>\n",
       "      <th>bairro_group</th>\n",
       "      <th>bairro</th>\n",
       "      <th>latitude</th>\n",
       "      <th>longitude</th>\n",
       "      <th>room_type</th>\n",
       "      <th>price</th>\n",
       "      <th>minimo_noites</th>\n",
       "      <th>numero_de_reviews</th>\n",
       "      <th>ultima_review</th>\n",
       "      <th>reviews_por_mes</th>\n",
       "      <th>calculado_host_listings_count</th>\n",
       "      <th>disponibilidade_365</th>\n",
       "      <th>ultima_review_semestre</th>\n",
       "      <th>minimo_noites_categorico</th>\n",
       "      <th>disponibilidade_365_categorico</th>\n",
       "      <th>valor_preenchido</th>\n",
       "    </tr>\n",
       "  </thead>\n",
       "  <tbody>\n",
       "    <tr>\n",
       "      <th>0</th>\n",
       "      <td>2595</td>\n",
       "      <td>Skylit Midtown Castle</td>\n",
       "      <td>2845</td>\n",
       "      <td>Jennifer</td>\n",
       "      <td>Manhattan</td>\n",
       "      <td>Midtown</td>\n",
       "      <td>40.75362</td>\n",
       "      <td>-73.98377</td>\n",
       "      <td>Entire home/apt</td>\n",
       "      <td>225</td>\n",
       "      <td>1</td>\n",
       "      <td>45</td>\n",
       "      <td>2019-05-21 00:00:00</td>\n",
       "      <td>0.38</td>\n",
       "      <td>2</td>\n",
       "      <td>355</td>\n",
       "      <td>2019-1-semestre</td>\n",
       "      <td>Entre_1_a_3_Dias</td>\n",
       "      <td>Entre_6_Meses_e_1_Ano</td>\n",
       "      <td>False</td>\n",
       "    </tr>\n",
       "    <tr>\n",
       "      <th>1</th>\n",
       "      <td>3647</td>\n",
       "      <td>THE VILLAGE OF HARLEM....NEW YORK !</td>\n",
       "      <td>4632</td>\n",
       "      <td>Elisabeth</td>\n",
       "      <td>Manhattan</td>\n",
       "      <td>Harlem</td>\n",
       "      <td>40.80902</td>\n",
       "      <td>-73.94190</td>\n",
       "      <td>Private room</td>\n",
       "      <td>150</td>\n",
       "      <td>3</td>\n",
       "      <td>0</td>\n",
       "      <td>anuncio_sem_review</td>\n",
       "      <td>0.00</td>\n",
       "      <td>1</td>\n",
       "      <td>365</td>\n",
       "      <td>anuncio_sem_review</td>\n",
       "      <td>Entre_1_a_3_Dias</td>\n",
       "      <td>1_Ano</td>\n",
       "      <td>True</td>\n",
       "    </tr>\n",
       "  </tbody>\n",
       "</table>\n",
       "</div>"
      ],
      "text/plain": [
       "     id                                 nome  host_id  host_name bairro_group  \\\n",
       "0  2595                Skylit Midtown Castle     2845   Jennifer    Manhattan   \n",
       "1  3647  THE VILLAGE OF HARLEM....NEW YORK !     4632  Elisabeth    Manhattan   \n",
       "\n",
       "    bairro  latitude  longitude        room_type  price  minimo_noites  \\\n",
       "0  Midtown  40.75362  -73.98377  Entire home/apt    225              1   \n",
       "1   Harlem  40.80902  -73.94190     Private room    150              3   \n",
       "\n",
       "   numero_de_reviews        ultima_review  reviews_por_mes  \\\n",
       "0                 45  2019-05-21 00:00:00             0.38   \n",
       "1                  0   anuncio_sem_review             0.00   \n",
       "\n",
       "   calculado_host_listings_count  disponibilidade_365 ultima_review_semestre  \\\n",
       "0                              2                  355        2019-1-semestre   \n",
       "1                              1                  365     anuncio_sem_review   \n",
       "\n",
       "  minimo_noites_categorico disponibilidade_365_categorico  valor_preenchido  \n",
       "0         Entre_1_a_3_Dias          Entre_6_Meses_e_1_Ano             False  \n",
       "1         Entre_1_a_3_Dias                          1_Ano              True  "
      ]
     },
     "execution_count": 193,
     "metadata": {},
     "output_type": "execute_result"
    }
   ],
   "source": [
    "df.head(2)"
   ]
  },
  {
   "cell_type": "code",
   "execution_count": 194,
   "metadata": {},
   "outputs": [
    {
     "data": {
      "text/html": [
       "<div>\n",
       "<style scoped>\n",
       "    .dataframe tbody tr th:only-of-type {\n",
       "        vertical-align: middle;\n",
       "    }\n",
       "\n",
       "    .dataframe tbody tr th {\n",
       "        vertical-align: top;\n",
       "    }\n",
       "\n",
       "    .dataframe thead th {\n",
       "        text-align: right;\n",
       "    }\n",
       "</style>\n",
       "<table border=\"1\" class=\"dataframe\">\n",
       "  <thead>\n",
       "    <tr style=\"text-align: right;\">\n",
       "      <th></th>\n",
       "      <th>bairro_group</th>\n",
       "      <th>room_type</th>\n",
       "      <th>minimo_noites_categorico</th>\n",
       "      <th>numero_de_reviews</th>\n",
       "      <th>ultima_review_semestre</th>\n",
       "      <th>reviews_por_mes</th>\n",
       "      <th>calculado_host_listings_count</th>\n",
       "      <th>disponibilidade_365_categorico</th>\n",
       "      <th>valor_preenchido</th>\n",
       "      <th>price</th>\n",
       "    </tr>\n",
       "  </thead>\n",
       "  <tbody>\n",
       "    <tr>\n",
       "      <th>0</th>\n",
       "      <td>Manhattan</td>\n",
       "      <td>Entire home/apt</td>\n",
       "      <td>Entre_1_a_3_Dias</td>\n",
       "      <td>45</td>\n",
       "      <td>2019-1-semestre</td>\n",
       "      <td>0.38</td>\n",
       "      <td>2</td>\n",
       "      <td>Entre_6_Meses_e_1_Ano</td>\n",
       "      <td>False</td>\n",
       "      <td>225</td>\n",
       "    </tr>\n",
       "    <tr>\n",
       "      <th>1</th>\n",
       "      <td>Manhattan</td>\n",
       "      <td>Private room</td>\n",
       "      <td>Entre_1_a_3_Dias</td>\n",
       "      <td>0</td>\n",
       "      <td>anuncio_sem_review</td>\n",
       "      <td>0.00</td>\n",
       "      <td>1</td>\n",
       "      <td>1_Ano</td>\n",
       "      <td>True</td>\n",
       "      <td>150</td>\n",
       "    </tr>\n",
       "    <tr>\n",
       "      <th>2</th>\n",
       "      <td>Brooklyn</td>\n",
       "      <td>Entire home/apt</td>\n",
       "      <td>Entre_1_a_3_Dias</td>\n",
       "      <td>270</td>\n",
       "      <td>2019-1-semestre</td>\n",
       "      <td>4.64</td>\n",
       "      <td>1</td>\n",
       "      <td>Entre_6_Meses_e_1_Ano</td>\n",
       "      <td>False</td>\n",
       "      <td>89</td>\n",
       "    </tr>\n",
       "    <tr>\n",
       "      <th>3</th>\n",
       "      <td>Manhattan</td>\n",
       "      <td>Entire home/apt</td>\n",
       "      <td>Entre_1_e_2_Semanas</td>\n",
       "      <td>9</td>\n",
       "      <td>2018-2-semestre</td>\n",
       "      <td>0.10</td>\n",
       "      <td>1</td>\n",
       "      <td>0_Dias</td>\n",
       "      <td>False</td>\n",
       "      <td>80</td>\n",
       "    </tr>\n",
       "    <tr>\n",
       "      <th>4</th>\n",
       "      <td>Manhattan</td>\n",
       "      <td>Entire home/apt</td>\n",
       "      <td>Entre_1_a_3_Dias</td>\n",
       "      <td>74</td>\n",
       "      <td>2019-1-semestre</td>\n",
       "      <td>0.59</td>\n",
       "      <td>1</td>\n",
       "      <td>Entre_2_Meses_e_6_Meses</td>\n",
       "      <td>False</td>\n",
       "      <td>200</td>\n",
       "    </tr>\n",
       "    <tr>\n",
       "      <th>...</th>\n",
       "      <td>...</td>\n",
       "      <td>...</td>\n",
       "      <td>...</td>\n",
       "      <td>...</td>\n",
       "      <td>...</td>\n",
       "      <td>...</td>\n",
       "      <td>...</td>\n",
       "      <td>...</td>\n",
       "      <td>...</td>\n",
       "      <td>...</td>\n",
       "    </tr>\n",
       "    <tr>\n",
       "      <th>48889</th>\n",
       "      <td>Brooklyn</td>\n",
       "      <td>Private room</td>\n",
       "      <td>Entre_1_a_3_Dias</td>\n",
       "      <td>0</td>\n",
       "      <td>anuncio_sem_review</td>\n",
       "      <td>0.00</td>\n",
       "      <td>2</td>\n",
       "      <td>Entre_1 e 2 Semanas</td>\n",
       "      <td>True</td>\n",
       "      <td>70</td>\n",
       "    </tr>\n",
       "    <tr>\n",
       "      <th>48890</th>\n",
       "      <td>Brooklyn</td>\n",
       "      <td>Private room</td>\n",
       "      <td>Entre_3_a_7_Dias</td>\n",
       "      <td>0</td>\n",
       "      <td>anuncio_sem_review</td>\n",
       "      <td>0.00</td>\n",
       "      <td>2</td>\n",
       "      <td>Entre_1_Mes_e_2_Meses</td>\n",
       "      <td>True</td>\n",
       "      <td>40</td>\n",
       "    </tr>\n",
       "    <tr>\n",
       "      <th>48891</th>\n",
       "      <td>Manhattan</td>\n",
       "      <td>Entire home/apt</td>\n",
       "      <td>Entre_1_e_2_Semanas</td>\n",
       "      <td>0</td>\n",
       "      <td>anuncio_sem_review</td>\n",
       "      <td>0.00</td>\n",
       "      <td>1</td>\n",
       "      <td>Entre_2_Semanas_e_1_Mes</td>\n",
       "      <td>True</td>\n",
       "      <td>115</td>\n",
       "    </tr>\n",
       "    <tr>\n",
       "      <th>48892</th>\n",
       "      <td>Manhattan</td>\n",
       "      <td>Shared room</td>\n",
       "      <td>Entre_1_a_3_Dias</td>\n",
       "      <td>0</td>\n",
       "      <td>anuncio_sem_review</td>\n",
       "      <td>0.00</td>\n",
       "      <td>6</td>\n",
       "      <td>Entre_1_a_3_Dias</td>\n",
       "      <td>True</td>\n",
       "      <td>55</td>\n",
       "    </tr>\n",
       "    <tr>\n",
       "      <th>48893</th>\n",
       "      <td>Manhattan</td>\n",
       "      <td>Private room</td>\n",
       "      <td>Entre_3_a_7_Dias</td>\n",
       "      <td>0</td>\n",
       "      <td>anuncio_sem_review</td>\n",
       "      <td>0.00</td>\n",
       "      <td>1</td>\n",
       "      <td>Entre_2_Semanas_e_1_Mes</td>\n",
       "      <td>True</td>\n",
       "      <td>90</td>\n",
       "    </tr>\n",
       "  </tbody>\n",
       "</table>\n",
       "<p>48883 rows × 10 columns</p>\n",
       "</div>"
      ],
      "text/plain": [
       "      bairro_group        room_type minimo_noites_categorico  \\\n",
       "0        Manhattan  Entire home/apt         Entre_1_a_3_Dias   \n",
       "1        Manhattan     Private room         Entre_1_a_3_Dias   \n",
       "2         Brooklyn  Entire home/apt         Entre_1_a_3_Dias   \n",
       "3        Manhattan  Entire home/apt      Entre_1_e_2_Semanas   \n",
       "4        Manhattan  Entire home/apt         Entre_1_a_3_Dias   \n",
       "...            ...              ...                      ...   \n",
       "48889     Brooklyn     Private room         Entre_1_a_3_Dias   \n",
       "48890     Brooklyn     Private room         Entre_3_a_7_Dias   \n",
       "48891    Manhattan  Entire home/apt      Entre_1_e_2_Semanas   \n",
       "48892    Manhattan      Shared room         Entre_1_a_3_Dias   \n",
       "48893    Manhattan     Private room         Entre_3_a_7_Dias   \n",
       "\n",
       "       numero_de_reviews ultima_review_semestre  reviews_por_mes  \\\n",
       "0                     45        2019-1-semestre             0.38   \n",
       "1                      0     anuncio_sem_review             0.00   \n",
       "2                    270        2019-1-semestre             4.64   \n",
       "3                      9        2018-2-semestre             0.10   \n",
       "4                     74        2019-1-semestre             0.59   \n",
       "...                  ...                    ...              ...   \n",
       "48889                  0     anuncio_sem_review             0.00   \n",
       "48890                  0     anuncio_sem_review             0.00   \n",
       "48891                  0     anuncio_sem_review             0.00   \n",
       "48892                  0     anuncio_sem_review             0.00   \n",
       "48893                  0     anuncio_sem_review             0.00   \n",
       "\n",
       "       calculado_host_listings_count disponibilidade_365_categorico  \\\n",
       "0                                  2          Entre_6_Meses_e_1_Ano   \n",
       "1                                  1                          1_Ano   \n",
       "2                                  1          Entre_6_Meses_e_1_Ano   \n",
       "3                                  1                         0_Dias   \n",
       "4                                  1        Entre_2_Meses_e_6_Meses   \n",
       "...                              ...                            ...   \n",
       "48889                              2            Entre_1 e 2 Semanas   \n",
       "48890                              2          Entre_1_Mes_e_2_Meses   \n",
       "48891                              1        Entre_2_Semanas_e_1_Mes   \n",
       "48892                              6               Entre_1_a_3_Dias   \n",
       "48893                              1        Entre_2_Semanas_e_1_Mes   \n",
       "\n",
       "       valor_preenchido  price  \n",
       "0                 False    225  \n",
       "1                  True    150  \n",
       "2                 False     89  \n",
       "3                 False     80  \n",
       "4                 False    200  \n",
       "...                 ...    ...  \n",
       "48889              True     70  \n",
       "48890              True     40  \n",
       "48891              True    115  \n",
       "48892              True     55  \n",
       "48893              True     90  \n",
       "\n",
       "[48883 rows x 10 columns]"
      ]
     },
     "execution_count": 194,
     "metadata": {},
     "output_type": "execute_result"
    }
   ],
   "source": [
    "df[['bairro_group', \n",
    "    'room_type', \n",
    "    'minimo_noites_categorico',\n",
    "    'numero_de_reviews',\n",
    "    'ultima_review_semestre',\n",
    "    'reviews_por_mes',\n",
    "    'calculado_host_listings_count',\n",
    "    'disponibilidade_365_categorico',\n",
    "    'valor_preenchido',\n",
    "    'price'\n",
    "]]"
   ]
  }
 ],
 "metadata": {
  "kernelspec": {
   "display_name": ".venv",
   "language": "python",
   "name": "python3"
  },
  "language_info": {
   "codemirror_mode": {
    "name": "ipython",
    "version": 3
   },
   "file_extension": ".py",
   "mimetype": "text/x-python",
   "name": "python",
   "nbconvert_exporter": "python",
   "pygments_lexer": "ipython3",
   "version": "3.10.12"
  }
 },
 "nbformat": 4,
 "nbformat_minor": 2
}
