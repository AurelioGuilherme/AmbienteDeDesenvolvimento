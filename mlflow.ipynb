{
 "cells": [
  {
   "cell_type": "markdown",
   "metadata": {},
   "source": [
    "# Notebook de Teste"
   ]
  },
  {
   "cell_type": "code",
   "execution_count": 1,
   "metadata": {},
   "outputs": [],
   "source": [
    "import pandas as pd\n",
    "import os"
   ]
  },
  {
   "cell_type": "code",
   "execution_count": 2,
   "metadata": {},
   "outputs": [],
   "source": [
    "DATA_DIR = \"./Data/classificacao-datasets\"\n",
    "POLLUTION_DATASET_FILE_NAME = \"updated_pollution_dataset.csv\"\n",
    "\n",
    "file_path = os.path.join(DATA_DIR, POLLUTION_DATASET_FILE_NAME)\n",
    "\n",
    "if os.path.exists(file_path):\n",
    "    df = pd.read_csv(file_path)\n",
    "else: \n",
    "     print(\"Arquivo não encontrado\")"
   ]
  },
  {
   "cell_type": "code",
   "execution_count": 3,
   "metadata": {},
   "outputs": [
    {
     "data": {
      "text/html": [
       "<div>\n",
       "<style scoped>\n",
       "    .dataframe tbody tr th:only-of-type {\n",
       "        vertical-align: middle;\n",
       "    }\n",
       "\n",
       "    .dataframe tbody tr th {\n",
       "        vertical-align: top;\n",
       "    }\n",
       "\n",
       "    .dataframe thead th {\n",
       "        text-align: right;\n",
       "    }\n",
       "</style>\n",
       "<table border=\"1\" class=\"dataframe\">\n",
       "  <thead>\n",
       "    <tr style=\"text-align: right;\">\n",
       "      <th></th>\n",
       "      <th>Temperature</th>\n",
       "      <th>Humidity</th>\n",
       "      <th>PM2.5</th>\n",
       "      <th>PM10</th>\n",
       "      <th>NO2</th>\n",
       "      <th>SO2</th>\n",
       "      <th>CO</th>\n",
       "      <th>Proximity_to_Industrial_Areas</th>\n",
       "      <th>Population_Density</th>\n",
       "      <th>Air Quality</th>\n",
       "    </tr>\n",
       "  </thead>\n",
       "  <tbody>\n",
       "    <tr>\n",
       "      <th>0</th>\n",
       "      <td>29.8</td>\n",
       "      <td>59.1</td>\n",
       "      <td>5.2</td>\n",
       "      <td>17.9</td>\n",
       "      <td>18.9</td>\n",
       "      <td>9.2</td>\n",
       "      <td>1.72</td>\n",
       "      <td>6.3</td>\n",
       "      <td>319</td>\n",
       "      <td>Moderate</td>\n",
       "    </tr>\n",
       "    <tr>\n",
       "      <th>1</th>\n",
       "      <td>28.3</td>\n",
       "      <td>75.6</td>\n",
       "      <td>2.3</td>\n",
       "      <td>12.2</td>\n",
       "      <td>30.8</td>\n",
       "      <td>9.7</td>\n",
       "      <td>1.64</td>\n",
       "      <td>6.0</td>\n",
       "      <td>611</td>\n",
       "      <td>Moderate</td>\n",
       "    </tr>\n",
       "    <tr>\n",
       "      <th>2</th>\n",
       "      <td>23.1</td>\n",
       "      <td>74.7</td>\n",
       "      <td>26.7</td>\n",
       "      <td>33.8</td>\n",
       "      <td>24.4</td>\n",
       "      <td>12.6</td>\n",
       "      <td>1.63</td>\n",
       "      <td>5.2</td>\n",
       "      <td>619</td>\n",
       "      <td>Moderate</td>\n",
       "    </tr>\n",
       "    <tr>\n",
       "      <th>3</th>\n",
       "      <td>27.1</td>\n",
       "      <td>39.1</td>\n",
       "      <td>6.1</td>\n",
       "      <td>6.3</td>\n",
       "      <td>13.5</td>\n",
       "      <td>5.3</td>\n",
       "      <td>1.15</td>\n",
       "      <td>11.1</td>\n",
       "      <td>551</td>\n",
       "      <td>Good</td>\n",
       "    </tr>\n",
       "    <tr>\n",
       "      <th>4</th>\n",
       "      <td>26.5</td>\n",
       "      <td>70.7</td>\n",
       "      <td>6.9</td>\n",
       "      <td>16.0</td>\n",
       "      <td>21.9</td>\n",
       "      <td>5.6</td>\n",
       "      <td>1.01</td>\n",
       "      <td>12.7</td>\n",
       "      <td>303</td>\n",
       "      <td>Good</td>\n",
       "    </tr>\n",
       "  </tbody>\n",
       "</table>\n",
       "</div>"
      ],
      "text/plain": [
       "   Temperature  Humidity  PM2.5  PM10   NO2   SO2    CO  \\\n",
       "0         29.8      59.1    5.2  17.9  18.9   9.2  1.72   \n",
       "1         28.3      75.6    2.3  12.2  30.8   9.7  1.64   \n",
       "2         23.1      74.7   26.7  33.8  24.4  12.6  1.63   \n",
       "3         27.1      39.1    6.1   6.3  13.5   5.3  1.15   \n",
       "4         26.5      70.7    6.9  16.0  21.9   5.6  1.01   \n",
       "\n",
       "   Proximity_to_Industrial_Areas  Population_Density Air Quality  \n",
       "0                            6.3                 319    Moderate  \n",
       "1                            6.0                 611    Moderate  \n",
       "2                            5.2                 619    Moderate  \n",
       "3                           11.1                 551        Good  \n",
       "4                           12.7                 303        Good  "
      ]
     },
     "execution_count": 3,
     "metadata": {},
     "output_type": "execute_result"
    }
   ],
   "source": [
    "df.head()"
   ]
  },
  {
   "cell_type": "code",
   "execution_count": 4,
   "metadata": {},
   "outputs": [
    {
     "data": {
      "text/html": [
       "<div>\n",
       "<style scoped>\n",
       "    .dataframe tbody tr th:only-of-type {\n",
       "        vertical-align: middle;\n",
       "    }\n",
       "\n",
       "    .dataframe tbody tr th {\n",
       "        vertical-align: top;\n",
       "    }\n",
       "\n",
       "    .dataframe thead th {\n",
       "        text-align: right;\n",
       "    }\n",
       "</style>\n",
       "<table border=\"1\" class=\"dataframe\">\n",
       "  <thead>\n",
       "    <tr style=\"text-align: right;\">\n",
       "      <th></th>\n",
       "      <th>count</th>\n",
       "      <th>mean</th>\n",
       "      <th>std</th>\n",
       "      <th>min</th>\n",
       "      <th>25%</th>\n",
       "      <th>50%</th>\n",
       "      <th>75%</th>\n",
       "      <th>max</th>\n",
       "    </tr>\n",
       "  </thead>\n",
       "  <tbody>\n",
       "    <tr>\n",
       "      <th>Temperature</th>\n",
       "      <td>5000.0</td>\n",
       "      <td>30.029020</td>\n",
       "      <td>6.720661</td>\n",
       "      <td>13.40</td>\n",
       "      <td>25.10</td>\n",
       "      <td>29.00</td>\n",
       "      <td>34.000</td>\n",
       "      <td>58.60</td>\n",
       "    </tr>\n",
       "    <tr>\n",
       "      <th>Humidity</th>\n",
       "      <td>5000.0</td>\n",
       "      <td>70.056120</td>\n",
       "      <td>15.863577</td>\n",
       "      <td>36.00</td>\n",
       "      <td>58.30</td>\n",
       "      <td>69.80</td>\n",
       "      <td>80.300</td>\n",
       "      <td>128.10</td>\n",
       "    </tr>\n",
       "    <tr>\n",
       "      <th>PM2.5</th>\n",
       "      <td>5000.0</td>\n",
       "      <td>20.142140</td>\n",
       "      <td>24.554546</td>\n",
       "      <td>0.00</td>\n",
       "      <td>4.60</td>\n",
       "      <td>12.00</td>\n",
       "      <td>26.100</td>\n",
       "      <td>295.00</td>\n",
       "    </tr>\n",
       "    <tr>\n",
       "      <th>PM10</th>\n",
       "      <td>5000.0</td>\n",
       "      <td>30.218360</td>\n",
       "      <td>27.349199</td>\n",
       "      <td>-0.20</td>\n",
       "      <td>12.30</td>\n",
       "      <td>21.70</td>\n",
       "      <td>38.100</td>\n",
       "      <td>315.80</td>\n",
       "    </tr>\n",
       "    <tr>\n",
       "      <th>NO2</th>\n",
       "      <td>5000.0</td>\n",
       "      <td>26.412100</td>\n",
       "      <td>8.895356</td>\n",
       "      <td>7.40</td>\n",
       "      <td>20.10</td>\n",
       "      <td>25.30</td>\n",
       "      <td>31.900</td>\n",
       "      <td>64.90</td>\n",
       "    </tr>\n",
       "    <tr>\n",
       "      <th>SO2</th>\n",
       "      <td>5000.0</td>\n",
       "      <td>10.014820</td>\n",
       "      <td>6.750303</td>\n",
       "      <td>-6.20</td>\n",
       "      <td>5.10</td>\n",
       "      <td>8.00</td>\n",
       "      <td>13.725</td>\n",
       "      <td>44.90</td>\n",
       "    </tr>\n",
       "    <tr>\n",
       "      <th>CO</th>\n",
       "      <td>5000.0</td>\n",
       "      <td>1.500354</td>\n",
       "      <td>0.546027</td>\n",
       "      <td>0.65</td>\n",
       "      <td>1.03</td>\n",
       "      <td>1.41</td>\n",
       "      <td>1.840</td>\n",
       "      <td>3.72</td>\n",
       "    </tr>\n",
       "    <tr>\n",
       "      <th>Proximity_to_Industrial_Areas</th>\n",
       "      <td>5000.0</td>\n",
       "      <td>8.425400</td>\n",
       "      <td>3.610944</td>\n",
       "      <td>2.50</td>\n",
       "      <td>5.40</td>\n",
       "      <td>7.90</td>\n",
       "      <td>11.100</td>\n",
       "      <td>25.80</td>\n",
       "    </tr>\n",
       "    <tr>\n",
       "      <th>Population_Density</th>\n",
       "      <td>5000.0</td>\n",
       "      <td>497.423800</td>\n",
       "      <td>152.754084</td>\n",
       "      <td>188.00</td>\n",
       "      <td>381.00</td>\n",
       "      <td>494.00</td>\n",
       "      <td>600.000</td>\n",
       "      <td>957.00</td>\n",
       "    </tr>\n",
       "  </tbody>\n",
       "</table>\n",
       "</div>"
      ],
      "text/plain": [
       "                                count        mean         std     min     25%  \\\n",
       "Temperature                    5000.0   30.029020    6.720661   13.40   25.10   \n",
       "Humidity                       5000.0   70.056120   15.863577   36.00   58.30   \n",
       "PM2.5                          5000.0   20.142140   24.554546    0.00    4.60   \n",
       "PM10                           5000.0   30.218360   27.349199   -0.20   12.30   \n",
       "NO2                            5000.0   26.412100    8.895356    7.40   20.10   \n",
       "SO2                            5000.0   10.014820    6.750303   -6.20    5.10   \n",
       "CO                             5000.0    1.500354    0.546027    0.65    1.03   \n",
       "Proximity_to_Industrial_Areas  5000.0    8.425400    3.610944    2.50    5.40   \n",
       "Population_Density             5000.0  497.423800  152.754084  188.00  381.00   \n",
       "\n",
       "                                  50%      75%     max  \n",
       "Temperature                     29.00   34.000   58.60  \n",
       "Humidity                        69.80   80.300  128.10  \n",
       "PM2.5                           12.00   26.100  295.00  \n",
       "PM10                            21.70   38.100  315.80  \n",
       "NO2                             25.30   31.900   64.90  \n",
       "SO2                              8.00   13.725   44.90  \n",
       "CO                               1.41    1.840    3.72  \n",
       "Proximity_to_Industrial_Areas    7.90   11.100   25.80  \n",
       "Population_Density             494.00  600.000  957.00  "
      ]
     },
     "execution_count": 4,
     "metadata": {},
     "output_type": "execute_result"
    }
   ],
   "source": [
    "df.describe().T"
   ]
  },
  {
   "cell_type": "code",
   "execution_count": 5,
   "metadata": {},
   "outputs": [
    {
     "name": "stdout",
     "output_type": "stream",
     "text": [
      "<class 'pandas.core.frame.DataFrame'>\n",
      "RangeIndex: 5000 entries, 0 to 4999\n",
      "Data columns (total 10 columns):\n",
      " #   Column                         Non-Null Count  Dtype  \n",
      "---  ------                         --------------  -----  \n",
      " 0   Temperature                    5000 non-null   float64\n",
      " 1   Humidity                       5000 non-null   float64\n",
      " 2   PM2.5                          5000 non-null   float64\n",
      " 3   PM10                           5000 non-null   float64\n",
      " 4   NO2                            5000 non-null   float64\n",
      " 5   SO2                            5000 non-null   float64\n",
      " 6   CO                             5000 non-null   float64\n",
      " 7   Proximity_to_Industrial_Areas  5000 non-null   float64\n",
      " 8   Population_Density             5000 non-null   int64  \n",
      " 9   Air Quality                    5000 non-null   object \n",
      "dtypes: float64(8), int64(1), object(1)\n",
      "memory usage: 390.8+ KB\n"
     ]
    }
   ],
   "source": [
    "df.info()"
   ]
  },
  {
   "cell_type": "markdown",
   "metadata": {},
   "source": [
    "## MLFLOW"
   ]
  },
  {
   "cell_type": "code",
   "execution_count": 6,
   "metadata": {},
   "outputs": [],
   "source": [
    "import mlflow\n",
    "import mlflow.sklearn"
   ]
  },
  {
   "cell_type": "code",
   "execution_count": 7,
   "metadata": {},
   "outputs": [],
   "source": [
    "from sklearn.ensemble import RandomForestClassifier\n",
    "from sklearn.model_selection import train_test_split\n",
    "from sklearn.preprocessing import LabelEncoder\n",
    "from sklearn.metrics import accuracy_score, precision_score, recall_score, f1_score"
   ]
  },
  {
   "cell_type": "code",
   "execution_count": 8,
   "metadata": {},
   "outputs": [
    {
     "data": {
      "text/html": [
       "<pre style=\"white-space:pre;overflow-x:auto;line-height:normal;font-family:Menlo,'DejaVu Sans Mono',consolas,'Courier New',monospace\">Accessing as AurelioGuilherme\n",
       "</pre>\n"
      ],
      "text/plain": [
       "Accessing as AurelioGuilherme\n"
      ]
     },
     "metadata": {},
     "output_type": "display_data"
    },
    {
     "data": {
      "text/html": [
       "<pre style=\"white-space:pre;overflow-x:auto;line-height:normal;font-family:Menlo,'DejaVu Sans Mono',consolas,'Courier New',monospace\">Initialized MLflow to track repo <span style=\"color: #008000; text-decoration-color: #008000\">\"AurelioGuilherme/AmbienteDeDesenvolvimento\"</span>\n",
       "</pre>\n"
      ],
      "text/plain": [
       "Initialized MLflow to track repo \u001b[32m\"AurelioGuilherme/AmbienteDeDesenvolvimento\"\u001b[0m\n"
      ]
     },
     "metadata": {},
     "output_type": "display_data"
    },
    {
     "data": {
      "text/html": [
       "<pre style=\"white-space:pre;overflow-x:auto;line-height:normal;font-family:Menlo,'DejaVu Sans Mono',consolas,'Courier New',monospace\">Repository AurelioGuilherme/AmbienteDeDesenvolvimento initialized!\n",
       "</pre>\n"
      ],
      "text/plain": [
       "Repository AurelioGuilherme/AmbienteDeDesenvolvimento initialized!\n"
      ]
     },
     "metadata": {},
     "output_type": "display_data"
    }
   ],
   "source": [
    "import dagshub\n",
    "dagshub.init(repo_owner='AurelioGuilherme', repo_name='AmbienteDeDesenvolvimento', mlflow=True)"
   ]
  },
  {
   "cell_type": "code",
   "execution_count": 9,
   "metadata": {},
   "outputs": [
    {
     "name": "stderr",
     "output_type": "stream",
     "text": [
      "2024/12/23 03:40:40 INFO mlflow.tracking.fluent: Experiment with name 'pollution_dataset_experiment' does not exist. Creating a new experiment.\n"
     ]
    },
    {
     "data": {
      "text/plain": [
       "<Experiment: artifact_location='mlflow-artifacts:/06b563545b744518b4537255a760af09', creation_time=1734936040619, experiment_id='0', last_update_time=1734936040619, lifecycle_stage='active', name='pollution_dataset_experiment', tags={}>"
      ]
     },
     "execution_count": 9,
     "metadata": {},
     "output_type": "execute_result"
    }
   ],
   "source": [
    "mlflow.set_experiment(\"pollution_dataset_experiment\")"
   ]
  },
  {
   "cell_type": "code",
   "execution_count": 10,
   "metadata": {},
   "outputs": [],
   "source": [
    "X = df.iloc[:,:-1]\n",
    "y = df.iloc[:,-1:]"
   ]
  },
  {
   "cell_type": "code",
   "execution_count": 11,
   "metadata": {},
   "outputs": [
    {
     "name": "stderr",
     "output_type": "stream",
     "text": [
      "/home/aurelio/projetos/Python/indicium/.venv/lib/python3.10/site-packages/sklearn/preprocessing/_label.py:110: DataConversionWarning: A column-vector y was passed when a 1d array was expected. Please change the shape of y to (n_samples, ), for example using ravel().\n",
      "  y = column_or_1d(y, warn=True)\n"
     ]
    }
   ],
   "source": [
    "encoder = LabelEncoder()\n",
    "y = encoder.fit_transform(y)"
   ]
  },
  {
   "cell_type": "code",
   "execution_count": 12,
   "metadata": {},
   "outputs": [],
   "source": [
    "X_train, X_test, y_train, y_test = train_test_split(X, y, test_size=0.2, random_state=42)"
   ]
  },
  {
   "cell_type": "code",
   "execution_count": 13,
   "metadata": {},
   "outputs": [],
   "source": [
    "model = RandomForestClassifier(n_estimators=100, random_state=42)"
   ]
  },
  {
   "cell_type": "code",
   "execution_count": 14,
   "metadata": {},
   "outputs": [
    {
     "name": "stderr",
     "output_type": "stream",
     "text": [
      "/home/aurelio/projetos/Python/indicium/.venv/lib/python3.10/site-packages/mlflow/types/utils.py:435: UserWarning: Hint: Inferred schema contains integer column(s). Integer columns in Python cannot represent missing values. If your input data contains missing values at inference time, it will be encoded as floats and will cause a schema enforcement error. The best way to avoid this problem is to infer the model schema based on a realistic data sample (training dataset) that includes missing values. Alternatively, you can declare integer columns as doubles (float64) whenever these columns may have missing values. See `Handling Integers With Missing Values <https://www.mlflow.org/docs/latest/models.html#handling-integers-with-missing-values>`_ for more details.\n",
      "  warnings.warn(\n",
      "/home/aurelio/projetos/Python/indicium/.venv/lib/python3.10/site-packages/mlflow/types/utils.py:435: UserWarning: Hint: Inferred schema contains integer column(s). Integer columns in Python cannot represent missing values. If your input data contains missing values at inference time, it will be encoded as floats and will cause a schema enforcement error. The best way to avoid this problem is to infer the model schema based on a realistic data sample (training dataset) that includes missing values. Alternatively, you can declare integer columns as doubles (float64) whenever these columns may have missing values. See `Handling Integers With Missing Values <https://www.mlflow.org/docs/latest/models.html#handling-integers-with-missing-values>`_ for more details.\n",
      "  warnings.warn(\n"
     ]
    },
    {
     "name": "stdout",
     "output_type": "stream",
     "text": [
      "🏃 View run bright-croc-627 at: https://dagshub.com/AurelioGuilherme/AmbienteDeDesenvolvimento.mlflow/#/experiments/0/runs/1e1779c77379478cae051430898af97c\n",
      "🧪 View experiment at: https://dagshub.com/AurelioGuilherme/AmbienteDeDesenvolvimento.mlflow/#/experiments/0\n"
     ]
    }
   ],
   "source": [
    "with mlflow.start_run():\n",
    "    # Treinando o modelo\n",
    "    model.fit(X_train, y_train)\n",
    "    y_pred = model.predict(X_test)\n",
    "\n",
    "    # Calculando métricas\n",
    "    accuracy = accuracy_score(y_test, y_pred)\n",
    "    precision = precision_score(y_test, y_pred, average='macro')\n",
    "    recall = recall_score(y_test, y_pred, average='macro')\n",
    "    f1 = f1_score(y_test, y_pred, average='macro')\n",
    "\n",
    "    # Registrando parâmetros, métricas e o modelo\n",
    "    mlflow.log_param(\"n_estimators\", 100)\n",
    "    mlflow.log_param(\"random_state\", 42)\n",
    "    mlflow.log_metric(\"accuracy\", accuracy)\n",
    "    mlflow.log_metric(\"precision\", precision)\n",
    "    mlflow.log_metric(\"recall\", recall)\n",
    "    mlflow.log_metric(\"f1_score\", f1)\n",
    "\n",
    "    # Registrando o modelo\n",
    "    mlflow.sklearn.log_model(model, \"classification_rf_model\",input_example=X_test)"
   ]
  }
 ],
 "metadata": {
  "kernelspec": {
   "display_name": ".venv",
   "language": "python",
   "name": "python3"
  },
  "language_info": {
   "codemirror_mode": {
    "name": "ipython",
    "version": 3
   },
   "file_extension": ".py",
   "mimetype": "text/x-python",
   "name": "python",
   "nbconvert_exporter": "python",
   "pygments_lexer": "ipython3",
   "version": "3.10.12"
  }
 },
 "nbformat": 4,
 "nbformat_minor": 2
}
